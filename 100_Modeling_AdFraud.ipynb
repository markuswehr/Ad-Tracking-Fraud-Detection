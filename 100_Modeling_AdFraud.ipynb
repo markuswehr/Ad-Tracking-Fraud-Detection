{
 "cells": [
  {
   "cell_type": "code",
   "execution_count": 5,
   "metadata": {},
   "outputs": [
    {
     "name": "stdout",
     "output_type": "stream",
     "text": [
      "Requirement already satisfied: xgboost in ./.local/lib/python3.5/site-packages (0.90)\n",
      "Requirement already satisfied: numpy in /usr/local/lib/python3.5/site-packages (from xgboost) (1.15.1)\n",
      "Requirement already satisfied: scipy in /usr/local/lib/python3.5/site-packages (from xgboost) (1.1.0)\n",
      "Requirement already satisfied: mkl-fft in /usr/local/lib/python3.5/dist-packages (from numpy->xgboost) (1.0.6)\n",
      "Requirement already satisfied: mkl-random in /usr/local/lib/python3.5/dist-packages (from numpy->xgboost) (1.0.1.1)\n",
      "Requirement already satisfied: tbb4py in /usr/local/lib/python3.5/dist-packages (from numpy->xgboost) (2019.0)\n",
      "Requirement already satisfied: mkl in /usr/local/lib/python3.5/dist-packages (from numpy->xgboost) (2019.0)\n",
      "Requirement already satisfied: icc-rt in /usr/local/lib/python3.5/dist-packages (from numpy->xgboost) (2019.0)\n",
      "Requirement already satisfied: intel-numpy in /usr/local/lib/python3.5/dist-packages (from scipy->xgboost) (1.15.1)\n",
      "Requirement already satisfied: tbb==2019.* in /usr/local/lib/python3.5/dist-packages (from tbb4py->numpy->xgboost) (2019.0)\n",
      "Requirement already satisfied: intel-openmp in /usr/local/lib/python3.5/dist-packages (from mkl->numpy->xgboost) (2019.0)\n"
     ]
    }
   ],
   "source": [
    "!pip install --user xgboost"
   ]
  },
  {
   "cell_type": "code",
   "execution_count": null,
   "metadata": {},
   "outputs": [],
   "source": []
  },
  {
   "cell_type": "code",
   "execution_count": 6,
   "metadata": {},
   "outputs": [],
   "source": [
    "import pandas as pd\n",
    "import numpy as np\n",
    "import pickle\n",
    "from tqdm import tqdm\n",
    "from collections import Counter\n",
    "from itertools import zip_longest\n",
    "\n",
    "import matplotlib.pyplot as plt\n",
    "import seaborn as sns\n",
    "%matplotlib inline\n",
    "\n",
    "from sklearn.linear_model import LogisticRegression\n",
    "from sklearn.ensemble import RandomForestClassifier\n",
    "from sklearn.svm import SVC\n",
    "from xgboost import XGBClassifier\n",
    "\n",
    "from sklearn.model_selection import train_test_split\n",
    "from sklearn.model_selection import cross_val_score, LeaveOneOut\n",
    "from sklearn.metrics import classification_report, accuracy_score, f1_score, precision_score, recall_score\n",
    "import sklearn.metrics as metrics\n",
    "\n",
    "from sklearn.model_selection import RandomizedSearchCV\n",
    "from sklearn.model_selection import GridSearchCV\n",
    "\n",
    "import warnings\n",
    "warnings.filterwarnings(\"ignore\")"
   ]
  },
  {
   "cell_type": "code",
   "execution_count": 7,
   "metadata": {},
   "outputs": [],
   "source": [
    "with open('train_data.pkl', 'rb') as f:\n",
    "    data = pickle.load(f)"
   ]
  },
  {
   "cell_type": "code",
   "execution_count": 8,
   "metadata": {},
   "outputs": [
    {
     "data": {
      "text/html": [
       "<div>\n",
       "<style scoped>\n",
       "    .dataframe tbody tr th:only-of-type {\n",
       "        vertical-align: middle;\n",
       "    }\n",
       "\n",
       "    .dataframe tbody tr th {\n",
       "        vertical-align: top;\n",
       "    }\n",
       "\n",
       "    .dataframe thead th {\n",
       "        text-align: right;\n",
       "    }\n",
       "</style>\n",
       "<table border=\"1\" class=\"dataframe\">\n",
       "  <thead>\n",
       "    <tr style=\"text-align: right;\">\n",
       "      <th></th>\n",
       "      <th>ip</th>\n",
       "      <th>app</th>\n",
       "      <th>device</th>\n",
       "      <th>os</th>\n",
       "      <th>channel</th>\n",
       "      <th>day</th>\n",
       "      <th>hour</th>\n",
       "      <th>minute</th>\n",
       "      <th>second</th>\n",
       "      <th>ip_app_counts</th>\n",
       "      <th>...</th>\n",
       "      <th>ip_app_device_channel_nextClick</th>\n",
       "      <th>ip_app_os_channel_nextClick</th>\n",
       "      <th>ip_device_os_channel_nextClick</th>\n",
       "      <th>app_device_os_channel_nextClick</th>\n",
       "      <th>ip_app_device_os_channel_nextClick</th>\n",
       "      <th>sin_click_hour</th>\n",
       "      <th>cos_click_hour</th>\n",
       "      <th>sin_click_day</th>\n",
       "      <th>cos_click_day</th>\n",
       "      <th>is_attributed</th>\n",
       "    </tr>\n",
       "  </thead>\n",
       "  <tbody>\n",
       "    <tr>\n",
       "      <th>46608628</th>\n",
       "      <td>31012</td>\n",
       "      <td>2</td>\n",
       "      <td>1</td>\n",
       "      <td>18</td>\n",
       "      <td>219</td>\n",
       "      <td>1</td>\n",
       "      <td>11</td>\n",
       "      <td>43</td>\n",
       "      <td>36</td>\n",
       "      <td>-0.136522</td>\n",
       "      <td>...</td>\n",
       "      <td>1.264200e+04</td>\n",
       "      <td>1.000000e+10</td>\n",
       "      <td>1.000000e+10</td>\n",
       "      <td>73406.0</td>\n",
       "      <td>1.000000e+10</td>\n",
       "      <td>1.224647e-16</td>\n",
       "      <td>-1.000000e+00</td>\n",
       "      <td>-2.449294e-16</td>\n",
       "      <td>1.000000</td>\n",
       "      <td>0</td>\n",
       "    </tr>\n",
       "    <tr>\n",
       "      <th>153478577</th>\n",
       "      <td>58404</td>\n",
       "      <td>2</td>\n",
       "      <td>1</td>\n",
       "      <td>19</td>\n",
       "      <td>477</td>\n",
       "      <td>3</td>\n",
       "      <td>6</td>\n",
       "      <td>17</td>\n",
       "      <td>46</td>\n",
       "      <td>-0.119743</td>\n",
       "      <td>...</td>\n",
       "      <td>6.353700e+04</td>\n",
       "      <td>1.000000e+10</td>\n",
       "      <td>1.000000e+10</td>\n",
       "      <td>38083.0</td>\n",
       "      <td>1.000000e+10</td>\n",
       "      <td>1.000000e+00</td>\n",
       "      <td>6.123234e-17</td>\n",
       "      <td>9.749279e-01</td>\n",
       "      <td>-0.222521</td>\n",
       "      <td>0</td>\n",
       "    </tr>\n",
       "    <tr>\n",
       "      <th>97459643</th>\n",
       "      <td>105560</td>\n",
       "      <td>12</td>\n",
       "      <td>1</td>\n",
       "      <td>19</td>\n",
       "      <td>328</td>\n",
       "      <td>2</td>\n",
       "      <td>8</td>\n",
       "      <td>47</td>\n",
       "      <td>20</td>\n",
       "      <td>1.491040</td>\n",
       "      <td>...</td>\n",
       "      <td>9.456000e+03</td>\n",
       "      <td>9.456000e+03</td>\n",
       "      <td>9.456000e+03</td>\n",
       "      <td>63151.0</td>\n",
       "      <td>9.456000e+03</td>\n",
       "      <td>7.071068e-01</td>\n",
       "      <td>-7.071068e-01</td>\n",
       "      <td>7.818315e-01</td>\n",
       "      <td>0.623490</td>\n",
       "      <td>0</td>\n",
       "    </tr>\n",
       "    <tr>\n",
       "      <th>122871484</th>\n",
       "      <td>50301</td>\n",
       "      <td>12</td>\n",
       "      <td>1</td>\n",
       "      <td>23</td>\n",
       "      <td>340</td>\n",
       "      <td>2</td>\n",
       "      <td>16</td>\n",
       "      <td>16</td>\n",
       "      <td>4</td>\n",
       "      <td>-0.170080</td>\n",
       "      <td>...</td>\n",
       "      <td>1.000000e+10</td>\n",
       "      <td>1.000000e+10</td>\n",
       "      <td>1.000000e+10</td>\n",
       "      <td>60215.0</td>\n",
       "      <td>1.000000e+10</td>\n",
       "      <td>-8.660254e-01</td>\n",
       "      <td>-5.000000e-01</td>\n",
       "      <td>7.818315e-01</td>\n",
       "      <td>0.623490</td>\n",
       "      <td>0</td>\n",
       "    </tr>\n",
       "    <tr>\n",
       "      <th>113711899</th>\n",
       "      <td>77840</td>\n",
       "      <td>18</td>\n",
       "      <td>1</td>\n",
       "      <td>46</td>\n",
       "      <td>439</td>\n",
       "      <td>2</td>\n",
       "      <td>13</td>\n",
       "      <td>37</td>\n",
       "      <td>37</td>\n",
       "      <td>-0.153301</td>\n",
       "      <td>...</td>\n",
       "      <td>1.000000e+10</td>\n",
       "      <td>1.000000e+10</td>\n",
       "      <td>1.000000e+10</td>\n",
       "      <td>58907.0</td>\n",
       "      <td>1.000000e+10</td>\n",
       "      <td>-5.000000e-01</td>\n",
       "      <td>-8.660254e-01</td>\n",
       "      <td>7.818315e-01</td>\n",
       "      <td>0.623490</td>\n",
       "      <td>0</td>\n",
       "    </tr>\n",
       "  </tbody>\n",
       "</table>\n",
       "<p>5 rows × 66 columns</p>\n",
       "</div>"
      ],
      "text/plain": [
       "               ip  app  device  os  channel  day  hour  minute  second  \\\n",
       "46608628    31012    2       1  18      219    1    11      43      36   \n",
       "153478577   58404    2       1  19      477    3     6      17      46   \n",
       "97459643   105560   12       1  19      328    2     8      47      20   \n",
       "122871484   50301   12       1  23      340    2    16      16       4   \n",
       "113711899   77840   18       1  46      439    2    13      37      37   \n",
       "\n",
       "           ip_app_counts  ...  ip_app_device_channel_nextClick  \\\n",
       "46608628       -0.136522  ...                     1.264200e+04   \n",
       "153478577      -0.119743  ...                     6.353700e+04   \n",
       "97459643        1.491040  ...                     9.456000e+03   \n",
       "122871484      -0.170080  ...                     1.000000e+10   \n",
       "113711899      -0.153301  ...                     1.000000e+10   \n",
       "\n",
       "           ip_app_os_channel_nextClick  ip_device_os_channel_nextClick  \\\n",
       "46608628                  1.000000e+10                    1.000000e+10   \n",
       "153478577                 1.000000e+10                    1.000000e+10   \n",
       "97459643                  9.456000e+03                    9.456000e+03   \n",
       "122871484                 1.000000e+10                    1.000000e+10   \n",
       "113711899                 1.000000e+10                    1.000000e+10   \n",
       "\n",
       "           app_device_os_channel_nextClick  \\\n",
       "46608628                           73406.0   \n",
       "153478577                          38083.0   \n",
       "97459643                           63151.0   \n",
       "122871484                          60215.0   \n",
       "113711899                          58907.0   \n",
       "\n",
       "           ip_app_device_os_channel_nextClick  sin_click_hour  cos_click_hour  \\\n",
       "46608628                         1.000000e+10    1.224647e-16   -1.000000e+00   \n",
       "153478577                        1.000000e+10    1.000000e+00    6.123234e-17   \n",
       "97459643                         9.456000e+03    7.071068e-01   -7.071068e-01   \n",
       "122871484                        1.000000e+10   -8.660254e-01   -5.000000e-01   \n",
       "113711899                        1.000000e+10   -5.000000e-01   -8.660254e-01   \n",
       "\n",
       "           sin_click_day  cos_click_day  is_attributed  \n",
       "46608628   -2.449294e-16       1.000000              0  \n",
       "153478577   9.749279e-01      -0.222521              0  \n",
       "97459643    7.818315e-01       0.623490              0  \n",
       "122871484   7.818315e-01       0.623490              0  \n",
       "113711899   7.818315e-01       0.623490              0  \n",
       "\n",
       "[5 rows x 66 columns]"
      ]
     },
     "execution_count": 8,
     "metadata": {},
     "output_type": "execute_result"
    }
   ],
   "source": [
    "data.head()"
   ]
  },
  {
   "cell_type": "code",
   "execution_count": 9,
   "metadata": {},
   "outputs": [
    {
     "name": "stdout",
     "output_type": "stream",
     "text": [
      "<class 'pandas.core.frame.DataFrame'>\n",
      "Int64Index: 913692 entries, 46608628 to 184882311\n",
      "Data columns (total 66 columns):\n",
      "ip                                    913692 non-null uint32\n",
      "app                                   913692 non-null uint16\n",
      "device                                913692 non-null uint16\n",
      "os                                    913692 non-null uint16\n",
      "channel                               913692 non-null uint16\n",
      "day                                   913692 non-null uint8\n",
      "hour                                  913692 non-null uint8\n",
      "minute                                913692 non-null uint8\n",
      "second                                913692 non-null uint8\n",
      "ip_app_counts                         913692 non-null float64\n",
      "ip_device_counts                      913692 non-null float64\n",
      "ip_os_counts                          913692 non-null float64\n",
      "ip_channel_counts                     913692 non-null float64\n",
      "app_device_counts                     913692 non-null float64\n",
      "app_os_counts                         913692 non-null float64\n",
      "app_channel_counts                    913692 non-null float64\n",
      "device_os_counts                      913692 non-null float64\n",
      "device_channel_counts                 913692 non-null float64\n",
      "os_channel_counts                     913692 non-null float64\n",
      "ip_app_device_counts                  913692 non-null float64\n",
      "ip_app_os_counts                      913692 non-null float64\n",
      "ip_app_channel_counts                 913692 non-null float64\n",
      "ip_device_os_counts                   913692 non-null float64\n",
      "ip_device_channel_counts              913692 non-null float64\n",
      "ip_os_channel_counts                  913692 non-null float64\n",
      "app_device_os_counts                  913692 non-null float64\n",
      "app_device_channel_counts             913692 non-null float64\n",
      "app_os_channel_counts                 913692 non-null float64\n",
      "device_os_channel_counts              913692 non-null float64\n",
      "ip_app_device_os_counts               913692 non-null float64\n",
      "ip_app_device_channel_counts          913692 non-null float64\n",
      "ip_app_os_channel_counts              913692 non-null float64\n",
      "ip_device_os_channel_counts           913692 non-null float64\n",
      "app_device_os_channel_counts          913692 non-null float64\n",
      "ip_app_device_os_channel_counts       913692 non-null float64\n",
      "ip_app_nextClick                      913692 non-null float32\n",
      "ip_device_nextClick                   913692 non-null float32\n",
      "ip_os_nextClick                       913692 non-null float32\n",
      "ip_channel_nextClick                  913692 non-null float32\n",
      "app_device_nextClick                  913692 non-null float32\n",
      "app_os_nextClick                      913692 non-null float32\n",
      "app_channel_nextClick                 913692 non-null float32\n",
      "device_os_nextClick                   913692 non-null float32\n",
      "device_channel_nextClick              913692 non-null float32\n",
      "os_channel_nextClick                  913692 non-null float32\n",
      "ip_app_device_nextClick               913692 non-null float32\n",
      "ip_app_os_nextClick                   913692 non-null float32\n",
      "ip_app_channel_nextClick              913692 non-null float32\n",
      "ip_device_os_nextClick                913692 non-null float32\n",
      "ip_device_channel_nextClick           913692 non-null float32\n",
      "ip_os_channel_nextClick               913692 non-null float32\n",
      "app_device_os_nextClick               913692 non-null float32\n",
      "app_device_channel_nextClick          913692 non-null float32\n",
      "app_os_channel_nextClick              913692 non-null float32\n",
      "device_os_channel_nextClick           913692 non-null float32\n",
      "ip_app_device_os_nextClick            913692 non-null float32\n",
      "ip_app_device_channel_nextClick       913692 non-null float32\n",
      "ip_app_os_channel_nextClick           913692 non-null float32\n",
      "ip_device_os_channel_nextClick        913692 non-null float32\n",
      "app_device_os_channel_nextClick       913692 non-null float32\n",
      "ip_app_device_os_channel_nextClick    913692 non-null float32\n",
      "sin_click_hour                        913692 non-null float64\n",
      "cos_click_hour                        913692 non-null float64\n",
      "sin_click_day                         913692 non-null float64\n",
      "cos_click_day                         913692 non-null float64\n",
      "is_attributed                         913692 non-null uint8\n",
      "dtypes: float32(26), float64(30), uint16(4), uint32(1), uint8(5)\n",
      "memory usage: 321.5 MB\n"
     ]
    }
   ],
   "source": [
    "data.info()"
   ]
  },
  {
   "cell_type": "markdown",
   "metadata": {},
   "source": [
    "Dropping 'day', 'hour', 'minute', and 'second', because these features are ingrained in the transformed hour and day features."
   ]
  },
  {
   "cell_type": "code",
   "execution_count": 10,
   "metadata": {},
   "outputs": [],
   "source": [
    "data = data.drop(['day','hour','minute','second'], axis = 1)"
   ]
  },
  {
   "cell_type": "markdown",
   "metadata": {},
   "source": [
    "# 1.) Splitting data into train and test set\n",
    "\n",
    "Using stratified sampling to have an equal amount of fraudulent and non-fraudulent clicks for both the train and the test set."
   ]
  },
  {
   "cell_type": "code",
   "execution_count": 11,
   "metadata": {},
   "outputs": [],
   "source": [
    "X_train, X_test, y_train, y_test = train_test_split(data.loc[:,data.columns!='is_attributed'],\n",
    "                                                    data.is_attributed,\n",
    "                                                    test_size=0.3,\n",
    "                                                    stratify=data.is_attributed)"
   ]
  },
  {
   "cell_type": "code",
   "execution_count": null,
   "metadata": {},
   "outputs": [],
   "source": []
  },
  {
   "cell_type": "markdown",
   "metadata": {},
   "source": [
    "# 2.) Running models without hyperparameter tuning\n",
    "\n",
    "First, I will run the baseline models without performing parameter tuning to see how well they performe on the feature engineered dataset."
   ]
  },
  {
   "cell_type": "markdown",
   "metadata": {},
   "source": [
    "## 2.1) Logistic Regression"
   ]
  },
  {
   "cell_type": "code",
   "execution_count": 12,
   "metadata": {},
   "outputs": [],
   "source": [
    "logit = LogisticRegression()\n",
    "logit = logit.fit(X_train, y_train)"
   ]
  },
  {
   "cell_type": "code",
   "execution_count": 13,
   "metadata": {},
   "outputs": [],
   "source": [
    "# Train score\n",
    "logit_y_pred_train = logit.predict(X_train)\n",
    "\n",
    "# Cross-validation error\n",
    "logit_cv = cross_val_score(logit, X_train, y_train, scoring = 'f1', cv = 3, n_jobs = -1)\n",
    "\n",
    "# Test score\n",
    "logit_y_pred_test = logit.predict(X_test)"
   ]
  },
  {
   "cell_type": "markdown",
   "metadata": {},
   "source": [
    "Using classification report and AUC curve to evaluate performance.<br>\n",
    "\n",
    "Classification reports:"
   ]
  },
  {
   "cell_type": "code",
   "execution_count": 14,
   "metadata": {},
   "outputs": [
    {
     "name": "stdout",
     "output_type": "stream",
     "text": [
      "Classification report: Train set\n",
      "               precision    recall  f1-score   support\n",
      "\n",
      "    No Fraud       0.77      0.83      0.80    319792\n",
      "       Fraud       0.81      0.75      0.78    319792\n",
      "\n",
      "    accuracy                           0.79    639584\n",
      "   macro avg       0.79      0.79      0.79    639584\n",
      "weighted avg       0.79      0.79      0.79    639584\n",
      " ##########################################################\n",
      "Classification report: Test set\n",
      "               precision    recall  f1-score   support\n",
      "\n",
      "    No Fraud       0.77      0.83      0.80    137054\n",
      "       Fraud       0.81      0.75      0.78    137054\n",
      "\n",
      "    accuracy                           0.79    274108\n",
      "   macro avg       0.79      0.79      0.79    274108\n",
      "weighted avg       0.79      0.79      0.79    274108\n",
      " ##########################################################\n",
      "Avg. f1 score: cross-validation set\n",
      " 0.78\n"
     ]
    }
   ],
   "source": [
    "print('Classification report: Train set\\n', classification_report(y_train, logit_y_pred_train, target_names=['No Fraud','Fraud']),\n",
    "     '##########################################################')\n",
    "print('Classification report: Test set\\n', classification_report(y_test, logit_y_pred_test, target_names=['No Fraud','Fraud']),\n",
    "      '##########################################################')\n",
    "print('Avg. f1 score: cross-validation set\\n', round(logit_cv.mean(), 2))"
   ]
  },
  {
   "cell_type": "markdown",
   "metadata": {},
   "source": [
    "ROC-AUC curve:"
   ]
  },
  {
   "cell_type": "code",
   "execution_count": 15,
   "metadata": {},
   "outputs": [
    {
     "data": {
      "image/png": "[encoded data removed]",
      "text/plain": [
       "<Figure size 432x288 with 1 Axes>"
      ]
     },
     "metadata": {
      "needs_background": "light"
     },
     "output_type": "display_data"
    }
   ],
   "source": [
    "# Train FPR and TPR\n",
    "logit_probs_train = logit.predict_proba(X_train)\n",
    "fpr_train, tpr_train, threshold_train = metrics.roc_curve(y_train, logit_probs_train[:,1])\n",
    "roc_auc_train = metrics.auc(fpr_train, tpr_train)\n",
    "\n",
    "# Test FPR and TPR\n",
    "logit_probs_test = logit.predict_proba(X_test)\n",
    "fpr_test_logit, tpr_test_logit, threshold_test = metrics.roc_curve(y_test, logit_probs_test[:,1])\n",
    "roc_auc_test_logit = metrics.auc(fpr_test_logit, tpr_test_logit)\n",
    "\n",
    "plt.title('Receiver Operating Characteristic')\n",
    "plt.plot(fpr_train, tpr_train, label = 'AUC Train = %0.2f' % roc_auc_train)\n",
    "plt.plot(fpr_test_logit, tpr_test_logit, label = 'AUC Test = %0.2f' % roc_auc_test_logit)\n",
    "plt.legend(loc = 'lower right')\n",
    "plt.plot([0, 1], [0, 1],'r--')\n",
    "plt.xlim([0, 1])\n",
    "plt.ylim([0, 1])\n",
    "plt.ylabel('True Positive Rate')\n",
    "plt.xlabel('False Positive Rate')\n",
    "plt.show()\n",
    "\n",
    "del fpr_train, tpr_train, threshold_train, threshold_test, roc_auc_train"
   ]
  },
  {
   "cell_type": "markdown",
   "metadata": {},
   "source": [
    "## 2.2) Random Forest Classifier"
   ]
  },
  {
   "cell_type": "code",
   "execution_count": 16,
   "metadata": {},
   "outputs": [],
   "source": [
    "rf = RandomForestClassifier()\n",
    "rf = rf.fit(X_train, y_train)"
   ]
  },
  {
   "cell_type": "code",
   "execution_count": 17,
   "metadata": {},
   "outputs": [],
   "source": [
    "# Train score\n",
    "rf_y_pred_train = rf.predict(X_train)\n",
    "\n",
    "# Cross-validation error\n",
    "rf_cv = cross_val_score(rf, X_train, y_train, scoring = 'f1', cv = 3, n_jobs = -1)\n",
    "\n",
    "# Test score\n",
    "rf_y_pred_test = rf.predict(X_test)"
   ]
  },
  {
   "cell_type": "markdown",
   "metadata": {},
   "source": [
    "Classification reports:"
   ]
  },
  {
   "cell_type": "code",
   "execution_count": 18,
   "metadata": {},
   "outputs": [
    {
     "name": "stdout",
     "output_type": "stream",
     "text": [
      "Classification report: Train set\n",
      "               precision    recall  f1-score   support\n",
      "\n",
      "    No Fraud       1.00      1.00      1.00    319792\n",
      "       Fraud       1.00      1.00      1.00    319792\n",
      "\n",
      "    accuracy                           1.00    639584\n",
      "   macro avg       1.00      1.00      1.00    639584\n",
      "weighted avg       1.00      1.00      1.00    639584\n",
      " ##########################################################\n",
      "Classification report: Test set\n",
      "               precision    recall  f1-score   support\n",
      "\n",
      "    No Fraud       1.00      1.00      1.00    137054\n",
      "       Fraud       1.00      1.00      1.00    137054\n",
      "\n",
      "    accuracy                           1.00    274108\n",
      "   macro avg       1.00      1.00      1.00    274108\n",
      "weighted avg       1.00      1.00      1.00    274108\n",
      " ##########################################################\n",
      "Avg. f1 score: cross-validation set\n",
      " 1.0\n"
     ]
    }
   ],
   "source": [
    "print('Classification report: Train set\\n', classification_report(y_train, rf_y_pred_train, target_names=['No Fraud','Fraud']),\n",
    "     '##########################################################')\n",
    "print('Classification report: Test set\\n', classification_report(y_test, rf_y_pred_test, target_names=['No Fraud','Fraud']),\n",
    "      '##########################################################')\n",
    "print('Avg. f1 score: cross-validation set\\n', round(rf_cv.mean(), 2))"
   ]
  },
  {
   "cell_type": "markdown",
   "metadata": {},
   "source": [
    "ROC-AUC curve:"
   ]
  },
  {
   "cell_type": "code",
   "execution_count": 19,
   "metadata": {},
   "outputs": [
    {
     "data": {
      "image/png": "[encoded data removed]",
      "text/plain": [
       "<Figure size 432x288 with 1 Axes>"
      ]
     },
     "metadata": {
      "needs_background": "light"
     },
     "output_type": "display_data"
    }
   ],
   "source": [
    "# Train FPR and TPR\n",
    "rf_probs_train = rf.predict_proba(X_train)\n",
    "fpr_train, tpr_train, threshold_train = metrics.roc_curve(y_train, rf_probs_train[:,1])\n",
    "roc_auc_train = metrics.auc(fpr_train, tpr_train)\n",
    "\n",
    "# Test FPR and TPR\n",
    "rf_probs_test = rf.predict_proba(X_test)\n",
    "fpr_test_rf, tpr_test_rf, threshold_test = metrics.roc_curve(y_test, rf_probs_test[:,1])\n",
    "roc_auc_test_rf = metrics.auc(fpr_test_rf, tpr_test_rf)\n",
    "\n",
    "plt.title('Receiver Operating Characteristic')\n",
    "plt.plot(fpr_train, tpr_train, label = 'AUC Train = %0.2f' % roc_auc_train)\n",
    "plt.plot(fpr_test_rf, tpr_test_rf, label = 'AUC Test = %0.2f' % roc_auc_test_rf)\n",
    "plt.legend(loc = 'lower right')\n",
    "plt.plot([0, 1], [0, 1],'r--')\n",
    "plt.xlim([0, 1])\n",
    "plt.ylim([0, 1])\n",
    "plt.ylabel('True Positive Rate')\n",
    "plt.xlabel('False Positive Rate')\n",
    "plt.show()\n",
    "\n",
    "del fpr_train, tpr_train, threshold_train, threshold_test, roc_auc_train"
   ]
  },
  {
   "cell_type": "code",
   "execution_count": null,
   "metadata": {},
   "outputs": [],
   "source": []
  },
  {
   "cell_type": "markdown",
   "metadata": {},
   "source": [
    "# 3.) Feature Importance"
   ]
  },
  {
   "cell_type": "markdown",
   "metadata": {},
   "source": [
    "## 3.1.) Logistic Regression - Feature Importance"
   ]
  },
  {
   "cell_type": "code",
   "execution_count": 20,
   "metadata": {},
   "outputs": [],
   "source": [
    "feature_importance_logit=pd.DataFrame(np.hstack((np.array([X_train.columns[:]]).T, logit.coef_.T)), columns=['feature', 'importance'])"
   ]
  },
  {
   "cell_type": "code",
   "execution_count": 21,
   "metadata": {},
   "outputs": [],
   "source": [
    "feature_importance_logit = feature_importance_logit.sort_values(by='importance', ascending=True)"
   ]
  },
  {
   "cell_type": "markdown",
   "metadata": {},
   "source": [
    "Looking only at the most important feature that are important to predict a download (positive beta coefficient)"
   ]
  },
  {
   "cell_type": "code",
   "execution_count": 22,
   "metadata": {},
   "outputs": [
    {
     "data": {
      "image/png": "[encoded data removed]",
      "text/plain": [
       "<Figure size 432x288 with 1 Axes>"
      ]
     },
     "metadata": {
      "needs_background": "light"
     },
     "output_type": "display_data"
    }
   ],
   "source": [
    "y_pos = np.arange(len(feature_importance_logit.feature[feature_importance_logit.importance>=0.1e-10]))\n",
    "\n",
    "plt.barh(y_pos, feature_importance_logit.importance[feature_importance_logit.importance>=0.1e-10])\n",
    "plt.yticks(y_pos, feature_importance_logit.feature[feature_importance_logit.importance>=0.1e-10])\n",
    "plt.title('Feature importance (non-fraud) - Logistic Regression')\n",
    "plt.xlabel('Beta Coefficients')\n",
    "plt.show()"
   ]
  },
  {
   "cell_type": "markdown",
   "metadata": {},
   "source": [
    "Clearly, the 'next_click' features are most important in predicting non-fraudulent clicks. However, these results should be taken with caution, since there might be multicollinearity present between the features.\n",
    "\n",
    "For our prediction task - predicting downloads/non-fraud - only positive beta coefficients are relevant."
   ]
  },
  {
   "cell_type": "code",
   "execution_count": 23,
   "metadata": {},
   "outputs": [],
   "source": [
    "feature_importance_logit = feature_importance_logit[feature_importance_logit['importance']>0].sort_values(by='importance', ascending = False)"
   ]
  },
  {
   "cell_type": "code",
   "execution_count": 24,
   "metadata": {},
   "outputs": [
    {
     "data": {
      "text/html": [
       "<div>\n",
       "<style scoped>\n",
       "    .dataframe tbody tr th:only-of-type {\n",
       "        vertical-align: middle;\n",
       "    }\n",
       "\n",
       "    .dataframe tbody tr th {\n",
       "        vertical-align: top;\n",
       "    }\n",
       "\n",
       "    .dataframe thead th {\n",
       "        text-align: right;\n",
       "    }\n",
       "</style>\n",
       "<table border=\"1\" class=\"dataframe\">\n",
       "  <thead>\n",
       "    <tr style=\"text-align: right;\">\n",
       "      <th></th>\n",
       "      <th>feature</th>\n",
       "      <th>importance</th>\n",
       "      <th>cum_sum</th>\n",
       "      <th>cum_perc</th>\n",
       "    </tr>\n",
       "  </thead>\n",
       "  <tbody>\n",
       "    <tr>\n",
       "      <th>32</th>\n",
       "      <td>ip_device_nextClick</td>\n",
       "      <td>3.32151e-10</td>\n",
       "      <td>3.32151e-10</td>\n",
       "      <td>20.4048</td>\n",
       "    </tr>\n",
       "    <tr>\n",
       "      <th>39</th>\n",
       "      <td>device_channel_nextClick</td>\n",
       "      <td>2.01515e-10</td>\n",
       "      <td>5.33666e-10</td>\n",
       "      <td>32.7843</td>\n",
       "    </tr>\n",
       "    <tr>\n",
       "      <th>48</th>\n",
       "      <td>app_device_channel_nextClick</td>\n",
       "      <td>1.46604e-10</td>\n",
       "      <td>6.8027e-10</td>\n",
       "      <td>41.7905</td>\n",
       "    </tr>\n",
       "    <tr>\n",
       "      <th>31</th>\n",
       "      <td>ip_app_nextClick</td>\n",
       "      <td>1.34908e-10</td>\n",
       "      <td>8.15178e-10</td>\n",
       "      <td>50.0782</td>\n",
       "    </tr>\n",
       "    <tr>\n",
       "      <th>33</th>\n",
       "      <td>ip_os_nextClick</td>\n",
       "      <td>1.26488e-10</td>\n",
       "      <td>9.41666e-10</td>\n",
       "      <td>57.8486</td>\n",
       "    </tr>\n",
       "    <tr>\n",
       "      <th>40</th>\n",
       "      <td>os_channel_nextClick</td>\n",
       "      <td>1.07111e-10</td>\n",
       "      <td>1.04878e-09</td>\n",
       "      <td>64.4287</td>\n",
       "    </tr>\n",
       "    <tr>\n",
       "      <th>38</th>\n",
       "      <td>device_os_nextClick</td>\n",
       "      <td>1.00873e-10</td>\n",
       "      <td>1.14965e-09</td>\n",
       "      <td>70.6256</td>\n",
       "    </tr>\n",
       "    <tr>\n",
       "      <th>49</th>\n",
       "      <td>app_os_channel_nextClick</td>\n",
       "      <td>9.98126e-11</td>\n",
       "      <td>1.24946e-09</td>\n",
       "      <td>76.7573</td>\n",
       "    </tr>\n",
       "    <tr>\n",
       "      <th>45</th>\n",
       "      <td>ip_device_channel_nextClick</td>\n",
       "      <td>9.29339e-11</td>\n",
       "      <td>1.3424e-09</td>\n",
       "      <td>82.4664</td>\n",
       "    </tr>\n",
       "    <tr>\n",
       "      <th>43</th>\n",
       "      <td>ip_app_channel_nextClick</td>\n",
       "      <td>8.6419e-11</td>\n",
       "      <td>1.42882e-09</td>\n",
       "      <td>87.7753</td>\n",
       "    </tr>\n",
       "    <tr>\n",
       "      <th>51</th>\n",
       "      <td>ip_app_device_os_nextClick</td>\n",
       "      <td>7.75115e-11</td>\n",
       "      <td>1.50633e-09</td>\n",
       "      <td>92.537</td>\n",
       "    </tr>\n",
       "    <tr>\n",
       "      <th>47</th>\n",
       "      <td>app_device_os_nextClick</td>\n",
       "      <td>6.63934e-11</td>\n",
       "      <td>1.57272e-09</td>\n",
       "      <td>96.6157</td>\n",
       "    </tr>\n",
       "    <tr>\n",
       "      <th>56</th>\n",
       "      <td>ip_app_device_os_channel_nextClick</td>\n",
       "      <td>2.85347e-11</td>\n",
       "      <td>1.60126e-09</td>\n",
       "      <td>98.3687</td>\n",
       "    </tr>\n",
       "    <tr>\n",
       "      <th>46</th>\n",
       "      <td>ip_os_channel_nextClick</td>\n",
       "      <td>2.4114e-11</td>\n",
       "      <td>1.62537e-09</td>\n",
       "      <td>99.85</td>\n",
       "    </tr>\n",
       "    <tr>\n",
       "      <th>0</th>\n",
       "      <td>ip</td>\n",
       "      <td>2.43831e-12</td>\n",
       "      <td>1.62781e-09</td>\n",
       "      <td>99.9998</td>\n",
       "    </tr>\n",
       "    <tr>\n",
       "      <th>1</th>\n",
       "      <td>app</td>\n",
       "      <td>1.89364e-15</td>\n",
       "      <td>1.62781e-09</td>\n",
       "      <td>99.9999</td>\n",
       "    </tr>\n",
       "    <tr>\n",
       "      <th>13</th>\n",
       "      <td>device_channel_counts</td>\n",
       "      <td>9.83914e-17</td>\n",
       "      <td>1.62781e-09</td>\n",
       "      <td>100</td>\n",
       "    </tr>\n",
       "    <tr>\n",
       "      <th>24</th>\n",
       "      <td>device_os_channel_counts</td>\n",
       "      <td>9.02711e-17</td>\n",
       "      <td>1.62781e-09</td>\n",
       "      <td>100</td>\n",
       "    </tr>\n",
       "    <tr>\n",
       "      <th>22</th>\n",
       "      <td>app_device_channel_counts</td>\n",
       "      <td>8.30217e-17</td>\n",
       "      <td>1.62781e-09</td>\n",
       "      <td>100</td>\n",
       "    </tr>\n",
       "    <tr>\n",
       "      <th>29</th>\n",
       "      <td>app_device_os_channel_counts</td>\n",
       "      <td>7.86122e-17</td>\n",
       "      <td>1.62781e-09</td>\n",
       "      <td>100</td>\n",
       "    </tr>\n",
       "    <tr>\n",
       "      <th>14</th>\n",
       "      <td>os_channel_counts</td>\n",
       "      <td>7.57405e-17</td>\n",
       "      <td>1.62781e-09</td>\n",
       "      <td>100</td>\n",
       "    </tr>\n",
       "    <tr>\n",
       "      <th>11</th>\n",
       "      <td>app_channel_counts</td>\n",
       "      <td>6.94263e-17</td>\n",
       "      <td>1.62781e-09</td>\n",
       "      <td>100</td>\n",
       "    </tr>\n",
       "    <tr>\n",
       "      <th>23</th>\n",
       "      <td>app_os_channel_counts</td>\n",
       "      <td>6.58573e-17</td>\n",
       "      <td>1.62781e-09</td>\n",
       "      <td>100</td>\n",
       "    </tr>\n",
       "    <tr>\n",
       "      <th>10</th>\n",
       "      <td>app_os_counts</td>\n",
       "      <td>5.2138e-17</td>\n",
       "      <td>1.62781e-09</td>\n",
       "      <td>100</td>\n",
       "    </tr>\n",
       "    <tr>\n",
       "      <th>21</th>\n",
       "      <td>app_device_os_counts</td>\n",
       "      <td>4.60318e-17</td>\n",
       "      <td>1.62781e-09</td>\n",
       "      <td>100</td>\n",
       "    </tr>\n",
       "    <tr>\n",
       "      <th>57</th>\n",
       "      <td>sin_click_hour</td>\n",
       "      <td>1.83246e-17</td>\n",
       "      <td>1.62781e-09</td>\n",
       "      <td>100</td>\n",
       "    </tr>\n",
       "    <tr>\n",
       "      <th>30</th>\n",
       "      <td>ip_app_device_os_channel_counts</td>\n",
       "      <td>1.44542e-17</td>\n",
       "      <td>1.62781e-09</td>\n",
       "      <td>100</td>\n",
       "    </tr>\n",
       "    <tr>\n",
       "      <th>58</th>\n",
       "      <td>cos_click_hour</td>\n",
       "      <td>1.42267e-17</td>\n",
       "      <td>1.62781e-09</td>\n",
       "      <td>100</td>\n",
       "    </tr>\n",
       "    <tr>\n",
       "      <th>28</th>\n",
       "      <td>ip_device_os_channel_counts</td>\n",
       "      <td>1.42024e-17</td>\n",
       "      <td>1.62781e-09</td>\n",
       "      <td>100</td>\n",
       "    </tr>\n",
       "    <tr>\n",
       "      <th>26</th>\n",
       "      <td>ip_app_device_channel_counts</td>\n",
       "      <td>1.38434e-17</td>\n",
       "      <td>1.62781e-09</td>\n",
       "      <td>100</td>\n",
       "    </tr>\n",
       "    <tr>\n",
       "      <th>27</th>\n",
       "      <td>ip_app_os_channel_counts</td>\n",
       "      <td>1.36684e-17</td>\n",
       "      <td>1.62781e-09</td>\n",
       "      <td>100</td>\n",
       "    </tr>\n",
       "    <tr>\n",
       "      <th>20</th>\n",
       "      <td>ip_os_channel_counts</td>\n",
       "      <td>1.34637e-17</td>\n",
       "      <td>1.62781e-09</td>\n",
       "      <td>100</td>\n",
       "    </tr>\n",
       "    <tr>\n",
       "      <th>19</th>\n",
       "      <td>ip_device_channel_counts</td>\n",
       "      <td>1.33507e-17</td>\n",
       "      <td>1.62781e-09</td>\n",
       "      <td>100</td>\n",
       "    </tr>\n",
       "    <tr>\n",
       "      <th>8</th>\n",
       "      <td>ip_channel_counts</td>\n",
       "      <td>1.33183e-17</td>\n",
       "      <td>1.62781e-09</td>\n",
       "      <td>100</td>\n",
       "    </tr>\n",
       "    <tr>\n",
       "      <th>12</th>\n",
       "      <td>device_os_counts</td>\n",
       "      <td>1.03434e-17</td>\n",
       "      <td>1.62781e-09</td>\n",
       "      <td>100</td>\n",
       "    </tr>\n",
       "    <tr>\n",
       "      <th>17</th>\n",
       "      <td>ip_app_channel_counts</td>\n",
       "      <td>9.91554e-18</td>\n",
       "      <td>1.62781e-09</td>\n",
       "      <td>100</td>\n",
       "    </tr>\n",
       "    <tr>\n",
       "      <th>60</th>\n",
       "      <td>cos_click_day</td>\n",
       "      <td>9.20866e-18</td>\n",
       "      <td>1.62781e-09</td>\n",
       "      <td>100</td>\n",
       "    </tr>\n",
       "    <tr>\n",
       "      <th>25</th>\n",
       "      <td>ip_app_device_os_counts</td>\n",
       "      <td>7.17562e-18</td>\n",
       "      <td>1.62781e-09</td>\n",
       "      <td>100</td>\n",
       "    </tr>\n",
       "    <tr>\n",
       "      <th>16</th>\n",
       "      <td>ip_app_os_counts</td>\n",
       "      <td>7.00961e-18</td>\n",
       "      <td>1.62781e-09</td>\n",
       "      <td>100</td>\n",
       "    </tr>\n",
       "    <tr>\n",
       "      <th>9</th>\n",
       "      <td>app_device_counts</td>\n",
       "      <td>3.78522e-18</td>\n",
       "      <td>1.62781e-09</td>\n",
       "      <td>100</td>\n",
       "    </tr>\n",
       "  </tbody>\n",
       "</table>\n",
       "</div>"
      ],
      "text/plain": [
       "                               feature   importance      cum_sum cum_perc\n",
       "32                 ip_device_nextClick  3.32151e-10  3.32151e-10  20.4048\n",
       "39            device_channel_nextClick  2.01515e-10  5.33666e-10  32.7843\n",
       "48        app_device_channel_nextClick  1.46604e-10   6.8027e-10  41.7905\n",
       "31                    ip_app_nextClick  1.34908e-10  8.15178e-10  50.0782\n",
       "33                     ip_os_nextClick  1.26488e-10  9.41666e-10  57.8486\n",
       "40                os_channel_nextClick  1.07111e-10  1.04878e-09  64.4287\n",
       "38                 device_os_nextClick  1.00873e-10  1.14965e-09  70.6256\n",
       "49            app_os_channel_nextClick  9.98126e-11  1.24946e-09  76.7573\n",
       "45         ip_device_channel_nextClick  9.29339e-11   1.3424e-09  82.4664\n",
       "43            ip_app_channel_nextClick   8.6419e-11  1.42882e-09  87.7753\n",
       "51          ip_app_device_os_nextClick  7.75115e-11  1.50633e-09   92.537\n",
       "47             app_device_os_nextClick  6.63934e-11  1.57272e-09  96.6157\n",
       "56  ip_app_device_os_channel_nextClick  2.85347e-11  1.60126e-09  98.3687\n",
       "46             ip_os_channel_nextClick   2.4114e-11  1.62537e-09    99.85\n",
       "0                                   ip  2.43831e-12  1.62781e-09  99.9998\n",
       "1                                  app  1.89364e-15  1.62781e-09  99.9999\n",
       "13               device_channel_counts  9.83914e-17  1.62781e-09      100\n",
       "24            device_os_channel_counts  9.02711e-17  1.62781e-09      100\n",
       "22           app_device_channel_counts  8.30217e-17  1.62781e-09      100\n",
       "29        app_device_os_channel_counts  7.86122e-17  1.62781e-09      100\n",
       "14                   os_channel_counts  7.57405e-17  1.62781e-09      100\n",
       "11                  app_channel_counts  6.94263e-17  1.62781e-09      100\n",
       "23               app_os_channel_counts  6.58573e-17  1.62781e-09      100\n",
       "10                       app_os_counts   5.2138e-17  1.62781e-09      100\n",
       "21                app_device_os_counts  4.60318e-17  1.62781e-09      100\n",
       "57                      sin_click_hour  1.83246e-17  1.62781e-09      100\n",
       "30     ip_app_device_os_channel_counts  1.44542e-17  1.62781e-09      100\n",
       "58                      cos_click_hour  1.42267e-17  1.62781e-09      100\n",
       "28         ip_device_os_channel_counts  1.42024e-17  1.62781e-09      100\n",
       "26        ip_app_device_channel_counts  1.38434e-17  1.62781e-09      100\n",
       "27            ip_app_os_channel_counts  1.36684e-17  1.62781e-09      100\n",
       "20                ip_os_channel_counts  1.34637e-17  1.62781e-09      100\n",
       "19            ip_device_channel_counts  1.33507e-17  1.62781e-09      100\n",
       "8                    ip_channel_counts  1.33183e-17  1.62781e-09      100\n",
       "12                    device_os_counts  1.03434e-17  1.62781e-09      100\n",
       "17               ip_app_channel_counts  9.91554e-18  1.62781e-09      100\n",
       "60                       cos_click_day  9.20866e-18  1.62781e-09      100\n",
       "25             ip_app_device_os_counts  7.17562e-18  1.62781e-09      100\n",
       "16                    ip_app_os_counts  7.00961e-18  1.62781e-09      100\n",
       "9                    app_device_counts  3.78522e-18  1.62781e-09      100"
      ]
     },
     "execution_count": 24,
     "metadata": {},
     "output_type": "execute_result"
    }
   ],
   "source": [
    "feature_importance_logit['cum_sum'] = feature_importance_logit['importance'].cumsum()\n",
    "feature_importance_logit['cum_perc'] = 100*feature_importance_logit['cum_sum']/feature_importance_logit['importance'].sum()\n",
    "feature_importance_logit"
   ]
  },
  {
   "cell_type": "markdown",
   "metadata": {},
   "source": [
    "## 3.2) Random Forest - Feature Importance"
   ]
  },
  {
   "cell_type": "code",
   "execution_count": 25,
   "metadata": {},
   "outputs": [],
   "source": [
    "feature_importance_rf = pd.DataFrame(np.hstack((np.array([X_train.columns[:]]).T,\n",
    "                                                np.array([rf.feature_importances_]).T)),\n",
    "                                     columns=['feature', 'importance'])"
   ]
  },
  {
   "cell_type": "code",
   "execution_count": 26,
   "metadata": {},
   "outputs": [],
   "source": [
    "feature_importance_rf = feature_importance_rf.sort_values(by='importance', ascending=True)"
   ]
  },
  {
   "cell_type": "code",
   "execution_count": 27,
   "metadata": {},
   "outputs": [
    {
     "data": {
      "image/png": "[encoded data removed]",
      "text/plain": [
       "<Figure size 432x288 with 1 Axes>"
      ]
     },
     "metadata": {
      "needs_background": "light"
     },
     "output_type": "display_data"
    }
   ],
   "source": [
    "y_pos = np.arange(len(feature_importance_rf.feature[feature_importance_rf.importance>=0.01]))\n",
    "\n",
    "plt.barh(y_pos, feature_importance_rf.importance[feature_importance_rf.importance>=0.01])\n",
    "plt.yticks(y_pos, feature_importance_rf.feature[feature_importance_rf.importance>=0.01])\n",
    "plt.title('Feature importance (non-fraud) - Random Forest')\n",
    "plt.xlabel('Information Gain')\n",
    "plt.show()"
   ]
  },
  {
   "cell_type": "markdown",
   "metadata": {},
   "source": [
    "Similarly to Logistic Regression, for Random Forest the 'next_click' features also seem to be very important in predicting non-fraud. Additionally, some of the 'count' features seem to be influential as well.<br>"
   ]
  },
  {
   "cell_type": "code",
   "execution_count": 28,
   "metadata": {},
   "outputs": [],
   "source": [
    "feature_importance_rf = feature_importance_rf.sort_values(by='importance', ascending=False)"
   ]
  },
  {
   "cell_type": "code",
   "execution_count": 29,
   "metadata": {},
   "outputs": [
    {
     "data": {
      "text/html": [
       "<div>\n",
       "<style scoped>\n",
       "    .dataframe tbody tr th:only-of-type {\n",
       "        vertical-align: middle;\n",
       "    }\n",
       "\n",
       "    .dataframe tbody tr th {\n",
       "        vertical-align: top;\n",
       "    }\n",
       "\n",
       "    .dataframe thead th {\n",
       "        text-align: right;\n",
       "    }\n",
       "</style>\n",
       "<table border=\"1\" class=\"dataframe\">\n",
       "  <thead>\n",
       "    <tr style=\"text-align: right;\">\n",
       "      <th></th>\n",
       "      <th>feature</th>\n",
       "      <th>importance</th>\n",
       "      <th>cum_sum</th>\n",
       "      <th>cum_perc</th>\n",
       "    </tr>\n",
       "  </thead>\n",
       "  <tbody>\n",
       "    <tr>\n",
       "      <th>39</th>\n",
       "      <td>device_channel_nextClick</td>\n",
       "      <td>0.346096</td>\n",
       "      <td>0.346096</td>\n",
       "      <td>34.6096</td>\n",
       "    </tr>\n",
       "    <tr>\n",
       "      <th>38</th>\n",
       "      <td>device_os_nextClick</td>\n",
       "      <td>0.127277</td>\n",
       "      <td>0.473373</td>\n",
       "      <td>47.3373</td>\n",
       "    </tr>\n",
       "    <tr>\n",
       "      <th>37</th>\n",
       "      <td>app_channel_nextClick</td>\n",
       "      <td>0.118589</td>\n",
       "      <td>0.591962</td>\n",
       "      <td>59.1962</td>\n",
       "    </tr>\n",
       "    <tr>\n",
       "      <th>49</th>\n",
       "      <td>app_os_channel_nextClick</td>\n",
       "      <td>0.0824855</td>\n",
       "      <td>0.674448</td>\n",
       "      <td>67.4448</td>\n",
       "    </tr>\n",
       "    <tr>\n",
       "      <th>40</th>\n",
       "      <td>os_channel_nextClick</td>\n",
       "      <td>0.0820715</td>\n",
       "      <td>0.756519</td>\n",
       "      <td>75.6519</td>\n",
       "    </tr>\n",
       "    <tr>\n",
       "      <th>...</th>\n",
       "      <td>...</td>\n",
       "      <td>...</td>\n",
       "      <td>...</td>\n",
       "      <td>...</td>\n",
       "    </tr>\n",
       "    <tr>\n",
       "      <th>54</th>\n",
       "      <td>ip_device_os_channel_nextClick</td>\n",
       "      <td>9.52906e-06</td>\n",
       "      <td>0.999977</td>\n",
       "      <td>99.9977</td>\n",
       "    </tr>\n",
       "    <tr>\n",
       "      <th>46</th>\n",
       "      <td>ip_os_channel_nextClick</td>\n",
       "      <td>8.74576e-06</td>\n",
       "      <td>0.999985</td>\n",
       "      <td>99.9985</td>\n",
       "    </tr>\n",
       "    <tr>\n",
       "      <th>27</th>\n",
       "      <td>ip_app_os_channel_counts</td>\n",
       "      <td>7.42862e-06</td>\n",
       "      <td>0.999993</td>\n",
       "      <td>99.9993</td>\n",
       "    </tr>\n",
       "    <tr>\n",
       "      <th>30</th>\n",
       "      <td>ip_app_device_os_channel_counts</td>\n",
       "      <td>3.62215e-06</td>\n",
       "      <td>0.999996</td>\n",
       "      <td>99.9996</td>\n",
       "    </tr>\n",
       "    <tr>\n",
       "      <th>53</th>\n",
       "      <td>ip_app_os_channel_nextClick</td>\n",
       "      <td>3.51781e-06</td>\n",
       "      <td>1</td>\n",
       "      <td>100</td>\n",
       "    </tr>\n",
       "  </tbody>\n",
       "</table>\n",
       "<p>61 rows × 4 columns</p>\n",
       "</div>"
      ],
      "text/plain": [
       "                            feature   importance   cum_sum cum_perc\n",
       "39         device_channel_nextClick     0.346096  0.346096  34.6096\n",
       "38              device_os_nextClick     0.127277  0.473373  47.3373\n",
       "37            app_channel_nextClick     0.118589  0.591962  59.1962\n",
       "49         app_os_channel_nextClick    0.0824855  0.674448  67.4448\n",
       "40             os_channel_nextClick    0.0820715  0.756519  75.6519\n",
       "..                              ...          ...       ...      ...\n",
       "54   ip_device_os_channel_nextClick  9.52906e-06  0.999977  99.9977\n",
       "46          ip_os_channel_nextClick  8.74576e-06  0.999985  99.9985\n",
       "27         ip_app_os_channel_counts  7.42862e-06  0.999993  99.9993\n",
       "30  ip_app_device_os_channel_counts  3.62215e-06  0.999996  99.9996\n",
       "53      ip_app_os_channel_nextClick  3.51781e-06         1      100\n",
       "\n",
       "[61 rows x 4 columns]"
      ]
     },
     "execution_count": 29,
     "metadata": {},
     "output_type": "execute_result"
    }
   ],
   "source": [
    "feature_importance_rf['cum_sum'] = feature_importance_rf['importance'].cumsum()\n",
    "feature_importance_rf['cum_perc'] = 100*feature_importance_rf['cum_sum']/feature_importance_rf['importance'].sum()\n",
    "feature_importance_rf"
   ]
  },
  {
   "cell_type": "markdown",
   "metadata": {},
   "source": [
    "## 3.3) Remove irrelevant features\n",
    "\n",
    "Based on these findings, I am going to rank the features based on their information gain, calculate the cumulated sum over total information gain, and drop every feature that belongs to the last five percent. In that way, the dataset becomes easier to handle and possible noise is removed.\n",
    "\n",
    "Drop features that add little to know information gain or have an irrelevant beta factor:"
   ]
  },
  {
   "cell_type": "code",
   "execution_count": 30,
   "metadata": {},
   "outputs": [],
   "source": [
    "irrelevant_features = [b or a for a, b in zip_longest(feature_importance_rf[feature_importance_rf['cum_perc']>95]['feature'],feature_importance_logit[feature_importance_logit['cum_perc']>95]['feature'])]"
   ]
  },
  {
   "cell_type": "code",
   "execution_count": 31,
   "metadata": {},
   "outputs": [],
   "source": [
    "counts = Counter(irrelevant_features)\n",
    "dupids = [x for x in irrelevant_features if counts[x] > 1]"
   ]
  },
  {
   "cell_type": "code",
   "execution_count": 32,
   "metadata": {},
   "outputs": [
    {
     "name": "stdout",
     "output_type": "stream",
     "text": [
      "['ip_app_device_os_channel_nextClick', 'ip_os_channel_nextClick', 'ip_app_device_os_channel_counts', 'ip_device_os_channel_counts', 'ip_app_device_channel_counts', 'ip_app_os_channel_counts', 'ip_os_channel_counts', 'ip_device_channel_counts', 'ip_channel_counts', 'ip_app_channel_counts', 'cos_click_day', 'ip_app_device_os_counts', 'ip_app_os_counts']\n"
     ]
    }
   ],
   "source": [
    "def Remove(duplicate): \n",
    "    final_list = [] \n",
    "    for num in duplicate: \n",
    "        if num not in final_list: \n",
    "            final_list.append(num) \n",
    "    return final_list \n",
    "\n",
    "remove_features = dupids\n",
    "print(Remove(dupids)) "
   ]
  },
  {
   "cell_type": "code",
   "execution_count": 33,
   "metadata": {},
   "outputs": [],
   "source": [
    "X_train = X_train.drop(remove_features, axis = 1)\n",
    "X_test = X_test.drop(remove_features, axis = 1)"
   ]
  },
  {
   "cell_type": "code",
   "execution_count": null,
   "metadata": {},
   "outputs": [],
   "source": []
  },
  {
   "cell_type": "markdown",
   "metadata": {},
   "source": [
    "# 4.) Running baseline models plus additional models without hyperparameter tuning after dropping irrelevant features\n",
    "\n",
    "I have decided to test three different model types:<br>\n",
    "- Linear model: Logistic Regression\n",
    "- Ensemble learning (Bagging): Random Forest\n",
    "- Ensemble learning (Boosting): XGBoost\n",
    "\n",
    "First, I will run all models without performing parameter tuning to see how well they performe compared to the baseline models (Logistic Regression and Random Forest) that were trained on the whole dataset in '50_EDA_and_Feature_Engineering'."
   ]
  },
  {
   "cell_type": "markdown",
   "metadata": {},
   "source": [
    "## 4.1) Logistic Regression"
   ]
  },
  {
   "cell_type": "code",
   "execution_count": 34,
   "metadata": {},
   "outputs": [],
   "source": [
    "logit = LogisticRegression()\n",
    "logit = logit.fit(X_train, y_train)"
   ]
  },
  {
   "cell_type": "code",
   "execution_count": 35,
   "metadata": {},
   "outputs": [],
   "source": [
    "# Train score\n",
    "logit_y_pred_train = logit.predict(X_train)\n",
    "\n",
    "# Cross-validation error\n",
    "logit_cv = cross_val_score(logit, X_train, y_train, scoring = 'f1', cv = 10, n_jobs = -1)\n",
    "\n",
    "# Test score\n",
    "logit_y_pred_test = logit.predict(X_test)"
   ]
  },
  {
   "cell_type": "markdown",
   "metadata": {},
   "source": [
    "Using classification report and AUC curve to evaluate performance.<br>\n",
    "\n",
    "Classification reports:"
   ]
  },
  {
   "cell_type": "code",
   "execution_count": 36,
   "metadata": {},
   "outputs": [
    {
     "name": "stdout",
     "output_type": "stream",
     "text": [
      "Classification report: Train set\n",
      "               precision    recall  f1-score   support\n",
      "\n",
      "    No Fraud       0.77      0.83      0.80    319792\n",
      "       Fraud       0.81      0.75      0.78    319792\n",
      "\n",
      "    accuracy                           0.79    639584\n",
      "   macro avg       0.79      0.79      0.79    639584\n",
      "weighted avg       0.79      0.79      0.79    639584\n",
      " ##########################################################\n",
      "Classification report: Test set\n",
      "               precision    recall  f1-score   support\n",
      "\n",
      "    No Fraud       0.77      0.83      0.80    137054\n",
      "       Fraud       0.81      0.75      0.78    137054\n",
      "\n",
      "    accuracy                           0.79    274108\n",
      "   macro avg       0.79      0.79      0.79    274108\n",
      "weighted avg       0.79      0.79      0.79    274108\n",
      " ##########################################################\n",
      "Avg. f1 score: cross-validation set\n",
      " 0.78\n"
     ]
    }
   ],
   "source": [
    "print('Classification report: Train set\\n', classification_report(y_train, logit_y_pred_train, target_names=['No Fraud','Fraud']),\n",
    "     '##########################################################')\n",
    "print('Classification report: Test set\\n', classification_report(y_test, logit_y_pred_test, target_names=['No Fraud','Fraud']),\n",
    "      '##########################################################')\n",
    "print('Avg. f1 score: cross-validation set\\n', round(logit_cv.mean(), 2))"
   ]
  },
  {
   "cell_type": "markdown",
   "metadata": {},
   "source": [
    "ROC-AUC curve:"
   ]
  },
  {
   "cell_type": "code",
   "execution_count": 37,
   "metadata": {},
   "outputs": [
    {
     "data": {
      "image/png": "[encoded data removed]",
      "text/plain": [
       "<Figure size 432x288 with 1 Axes>"
      ]
     },
     "metadata": {
      "needs_background": "light"
     },
     "output_type": "display_data"
    }
   ],
   "source": [
    "# Train FPR and TPR\n",
    "logit_probs_train = logit.predict_proba(X_train)\n",
    "fpr_train, tpr_train, threshold_train = metrics.roc_curve(y_train, logit_probs_train[:,1])\n",
    "roc_auc_train = metrics.auc(fpr_train, tpr_train)\n",
    "\n",
    "# Test FPR and TPR\n",
    "logit_probs_test = logit.predict_proba(X_test)\n",
    "fpr_test_logit, tpr_test_logit, threshold_test = metrics.roc_curve(y_test, logit_probs_test[:,1])\n",
    "roc_auc_test_logit = metrics.auc(fpr_test_logit, tpr_test_logit)\n",
    "\n",
    "plt.title('Receiver Operating Characteristic')\n",
    "plt.plot(fpr_train, tpr_train, label = 'AUC Train = %0.2f' % roc_auc_train)\n",
    "plt.plot(fpr_test_logit, tpr_test_logit, label = 'AUC Test = %0.2f' % roc_auc_test_logit)\n",
    "plt.legend(loc = 'lower right')\n",
    "plt.plot([0, 1], [0, 1],'r--')\n",
    "plt.xlim([0, 1])\n",
    "plt.ylim([0, 1])\n",
    "plt.ylabel('True Positive Rate')\n",
    "plt.xlabel('False Positive Rate')\n",
    "plt.show()\n",
    "\n",
    "del fpr_train, tpr_train, threshold_train, threshold_test, roc_auc_train"
   ]
  },
  {
   "cell_type": "markdown",
   "metadata": {},
   "source": [
    "## 4.2) Random Forest Classifier"
   ]
  },
  {
   "cell_type": "code",
   "execution_count": 38,
   "metadata": {},
   "outputs": [],
   "source": [
    "rf = RandomForestClassifier()\n",
    "rf = rf.fit(X_train, y_train)"
   ]
  },
  {
   "cell_type": "code",
   "execution_count": 39,
   "metadata": {},
   "outputs": [],
   "source": [
    "# Train score\n",
    "rf_y_pred_train = rf.predict(X_train)\n",
    "\n",
    "# Cross-validation error\n",
    "rf_cv = cross_val_score(rf, X_train, y_train, scoring = 'f1', cv = 10, n_jobs = -1)\n",
    "\n",
    "# Test score\n",
    "rf_y_pred_test = rf.predict(X_test)"
   ]
  },
  {
   "cell_type": "markdown",
   "metadata": {},
   "source": [
    "Classification reports:"
   ]
  },
  {
   "cell_type": "code",
   "execution_count": 40,
   "metadata": {},
   "outputs": [
    {
     "name": "stdout",
     "output_type": "stream",
     "text": [
      "Classification report: Train set\n",
      "               precision    recall  f1-score   support\n",
      "\n",
      "    No Fraud       1.00      1.00      1.00    319792\n",
      "       Fraud       1.00      1.00      1.00    319792\n",
      "\n",
      "    accuracy                           1.00    639584\n",
      "   macro avg       1.00      1.00      1.00    639584\n",
      "weighted avg       1.00      1.00      1.00    639584\n",
      " ##########################################################\n",
      "Classification report: Test set\n",
      "               precision    recall  f1-score   support\n",
      "\n",
      "    No Fraud       1.00      1.00      1.00    137054\n",
      "       Fraud       1.00      1.00      1.00    137054\n",
      "\n",
      "    accuracy                           1.00    274108\n",
      "   macro avg       1.00      1.00      1.00    274108\n",
      "weighted avg       1.00      1.00      1.00    274108\n",
      " ##########################################################\n",
      "Avg. f1 score: cross-validation set\n",
      " 1.0\n"
     ]
    }
   ],
   "source": [
    "print('Classification report: Train set\\n', classification_report(y_train, rf_y_pred_train, target_names=['No Fraud','Fraud']),\n",
    "     '##########################################################')\n",
    "print('Classification report: Test set\\n', classification_report(y_test, rf_y_pred_test, target_names=['No Fraud','Fraud']),\n",
    "      '##########################################################')\n",
    "print('Avg. f1 score: cross-validation set\\n', round(rf_cv.mean(), 2))"
   ]
  },
  {
   "cell_type": "markdown",
   "metadata": {},
   "source": [
    "ROC-AUC curve:"
   ]
  },
  {
   "cell_type": "code",
   "execution_count": 41,
   "metadata": {},
   "outputs": [
    {
     "data": {
      "image/png": "[encoded data removed]",
      "text/plain": [
       "<Figure size 432x288 with 1 Axes>"
      ]
     },
     "metadata": {
      "needs_background": "light"
     },
     "output_type": "display_data"
    }
   ],
   "source": [
    "# Train FPR and TPR\n",
    "rf_probs_train = rf.predict_proba(X_train)\n",
    "fpr_train, tpr_train, threshold_train = metrics.roc_curve(y_train, rf_probs_train[:,1])\n",
    "roc_auc_train = metrics.auc(fpr_train, tpr_train)\n",
    "\n",
    "# Test FPR and TPR\n",
    "rf_probs_test = rf.predict_proba(X_test)\n",
    "fpr_test_rf, tpr_test_rf, threshold_test = metrics.roc_curve(y_test, rf_probs_test[:,1])\n",
    "roc_auc_test_rf = metrics.auc(fpr_test_rf, tpr_test_rf)\n",
    "\n",
    "plt.title('Receiver Operating Characteristic')\n",
    "plt.plot(fpr_train, tpr_train, label = 'AUC Train = %0.2f' % roc_auc_train)\n",
    "plt.plot(fpr_test_rf, tpr_test_rf, label = 'AUC Test = %0.2f' % roc_auc_test_rf)\n",
    "plt.legend(loc = 'lower right')\n",
    "plt.plot([0, 1], [0, 1],'r--')\n",
    "plt.xlim([0, 1])\n",
    "plt.ylim([0, 1])\n",
    "plt.ylabel('True Positive Rate')\n",
    "plt.xlabel('False Positive Rate')\n",
    "plt.show()\n",
    "\n",
    "del fpr_train, tpr_train, threshold_train, threshold_test, roc_auc_train"
   ]
  },
  {
   "cell_type": "markdown",
   "metadata": {},
   "source": [
    "## 4.3) XGBoost"
   ]
  },
  {
   "cell_type": "code",
   "execution_count": 42,
   "metadata": {},
   "outputs": [],
   "source": [
    "xgb = XGBClassifier()\n",
    "xgb = xgb.fit(X_train, y_train)"
   ]
  },
  {
   "cell_type": "code",
   "execution_count": 43,
   "metadata": {},
   "outputs": [],
   "source": [
    "# Train score\n",
    "xgb_y_pred_train = xgb.predict(X_train)\n",
    "\n",
    "# Cross-validation error\n",
    "xgb_cv = cross_val_score(xgb, X_train, y_train, scoring = 'f1', cv = 10, n_jobs = -1)\n",
    "\n",
    "# Test score\n",
    "xgb_y_pred_test = xgb.predict(X_test)"
   ]
  },
  {
   "cell_type": "code",
   "execution_count": 44,
   "metadata": {},
   "outputs": [
    {
     "name": "stdout",
     "output_type": "stream",
     "text": [
      "Classification report: Train set\n",
      "               precision    recall  f1-score   support\n",
      "\n",
      "    No Fraud       1.00      1.00      1.00    319792\n",
      "       Fraud       1.00      1.00      1.00    319792\n",
      "\n",
      "    accuracy                           1.00    639584\n",
      "   macro avg       1.00      1.00      1.00    639584\n",
      "weighted avg       1.00      1.00      1.00    639584\n",
      " ##########################################################\n",
      "Classification report: Test set\n",
      "               precision    recall  f1-score   support\n",
      "\n",
      "    No Fraud       1.00      1.00      1.00    137054\n",
      "       Fraud       1.00      1.00      1.00    137054\n",
      "\n",
      "    accuracy                           1.00    274108\n",
      "   macro avg       1.00      1.00      1.00    274108\n",
      "weighted avg       1.00      1.00      1.00    274108\n",
      " ##########################################################\n",
      "Avg. f1 score: cross-validation set\n",
      " 1.0\n"
     ]
    }
   ],
   "source": [
    "print('Classification report: Train set\\n', classification_report(y_train, xgb_y_pred_train, target_names=['No Fraud','Fraud']),\n",
    "     '##########################################################')\n",
    "print('Classification report: Test set\\n', classification_report(y_test, xgb_y_pred_test, target_names=['No Fraud','Fraud']),\n",
    "      '##########################################################')\n",
    "print('Avg. f1 score: cross-validation set\\n', round(xgb_cv.mean(), 2))"
   ]
  },
  {
   "cell_type": "code",
   "execution_count": 45,
   "metadata": {},
   "outputs": [
    {
     "data": {
      "image/png": "[encoded data removed]",
      "text/plain": [
       "<Figure size 432x288 with 1 Axes>"
      ]
     },
     "metadata": {
      "needs_background": "light"
     },
     "output_type": "display_data"
    }
   ],
   "source": [
    "# Train FPR and TPR\n",
    "xgb_probs_train = xgb.predict_proba(X_train)\n",
    "fpr_train, tpr_train, threshold_train = metrics.roc_curve(y_train, xgb_probs_train[:,1])\n",
    "roc_auc_train = metrics.auc(fpr_train, tpr_train)\n",
    "\n",
    "# Test FPR and TPR\n",
    "xgb_probs_test = xgb.predict_proba(X_test)\n",
    "fpr_test_xgb, tpr_test_xgb, threshold_test = metrics.roc_curve(y_test, xgb_probs_test[:,1])\n",
    "roc_auc_test_xgb = metrics.auc(fpr_test_xgb, tpr_test_xgb)\n",
    "\n",
    "plt.title('Receiver Operating Characteristic')\n",
    "plt.plot(fpr_train, tpr_train, label = 'AUC Train = %0.2f' % roc_auc_train)\n",
    "plt.plot(fpr_test_xgb, tpr_test_xgb, label = 'AUC Test = %0.2f' % roc_auc_test_xgb)\n",
    "plt.legend(loc = 'lower right')\n",
    "plt.plot([0, 1], [0, 1],'r--')\n",
    "plt.xlim([0, 1])\n",
    "plt.ylim([0, 1])\n",
    "plt.ylabel('True Positive Rate')\n",
    "plt.xlabel('False Positive Rate')\n",
    "plt.show()\n",
    "\n",
    "del fpr_train, tpr_train, threshold_train, threshold_test, roc_auc_train"
   ]
  },
  {
   "cell_type": "code",
   "execution_count": null,
   "metadata": {},
   "outputs": [],
   "source": []
  },
  {
   "cell_type": "markdown",
   "metadata": {},
   "source": [
    "# 5.) Parameter tuning"
   ]
  },
  {
   "cell_type": "markdown",
   "metadata": {},
   "source": [
    "## 5.1) Tuning Logistic Regression\n",
    "\n",
    "Using Random GridSearch to approximate C."
   ]
  },
  {
   "cell_type": "code",
   "execution_count": 46,
   "metadata": {},
   "outputs": [],
   "source": [
    "C = [int(x) for x in np.linspace(start = 2, stop = 20, num = 10)]\n",
    "\n",
    "logit_random_grid = {'C': C}"
   ]
  },
  {
   "cell_type": "code",
   "execution_count": 47,
   "metadata": {},
   "outputs": [
    {
     "name": "stdout",
     "output_type": "stream",
     "text": [
      "Fitting 3 folds for each of 10 candidates, totalling 30 fits\n"
     ]
    },
    {
     "name": "stderr",
     "output_type": "stream",
     "text": [
      "[Parallel(n_jobs=-1)]: Using backend LokyBackend with 8 concurrent workers.\n",
      "[Parallel(n_jobs=-1)]: Done  30 out of  30 | elapsed:  1.8min finished\n"
     ]
    },
    {
     "data": {
      "text/plain": [
       "RandomizedSearchCV(cv=3, error_score='raise-deprecating',\n",
       "                   estimator=LogisticRegression(C=1.0, class_weight=None,\n",
       "                                                dual=False, fit_intercept=True,\n",
       "                                                intercept_scaling=1,\n",
       "                                                l1_ratio=None, max_iter=100,\n",
       "                                                multi_class='warn', n_jobs=None,\n",
       "                                                penalty='l2', random_state=None,\n",
       "                                                solver='warn', tol=0.0001,\n",
       "                                                verbose=0, warm_start=False),\n",
       "                   iid='warn', n_iter=50, n_jobs=-1,\n",
       "                   param_distributions={'C': [2, 4, 6, 8, 10, 12, 14, 16, 18,\n",
       "                                              20]},\n",
       "                   pre_dispatch='2*n_jobs', random_state=None, refit=True,\n",
       "                   return_train_score=False, scoring='f1', verbose=2)"
      ]
     },
     "execution_count": 47,
     "metadata": {},
     "output_type": "execute_result"
    }
   ],
   "source": [
    "# Random search of parameters, using 3 fold cross validation, \n",
    "# search across 100 different combinations, and use all available cores\n",
    "logit_random = RandomizedSearchCV(estimator = logit, param_distributions = logit_random_grid,\n",
    "                                  n_iter = 50, cv = 3, verbose=2, n_jobs = -1, scoring = 'f1')\n",
    "logit_random.fit(X_train, y_train)"
   ]
  },
  {
   "cell_type": "code",
   "execution_count": 48,
   "metadata": {},
   "outputs": [
    {
     "data": {
      "text/plain": [
       "{'C': 14}"
      ]
     },
     "execution_count": 48,
     "metadata": {},
     "output_type": "execute_result"
    }
   ],
   "source": [
    "logit_random.best_params_"
   ]
  },
  {
   "cell_type": "markdown",
   "metadata": {},
   "source": [
    "Using C of 10 and comparing l1 regularization (Lasso) versus l2 (Ridge)\n",
    "\n",
    "### 5.1.1) Lasso Regularization"
   ]
  },
  {
   "cell_type": "code",
   "execution_count": 49,
   "metadata": {},
   "outputs": [],
   "source": [
    "logit = LogisticRegression(C=10, penalty='l1', solver='saga')\n",
    "logit = logit.fit(X_train, y_train)"
   ]
  },
  {
   "cell_type": "code",
   "execution_count": 50,
   "metadata": {},
   "outputs": [],
   "source": [
    "# Train score\n",
    "logit_y_pred_train = logit.predict(X_train)\n",
    "\n",
    "# Cross-validation error\n",
    "logit_cv = cross_val_score(logit, X_train, y_train, scoring = 'f1', cv = 10, n_jobs = -1)\n",
    "\n",
    "# Test score\n",
    "logit_y_pred_test = logit.predict(X_test)"
   ]
  },
  {
   "cell_type": "code",
   "execution_count": 51,
   "metadata": {},
   "outputs": [
    {
     "name": "stdout",
     "output_type": "stream",
     "text": [
      "Classification report: Train set\n",
      "               precision    recall  f1-score   support\n",
      "\n",
      "    No Fraud       0.78      0.82      0.80    319792\n",
      "       Fraud       0.81      0.77      0.79    319792\n",
      "\n",
      "    accuracy                           0.80    639584\n",
      "   macro avg       0.80      0.80      0.80    639584\n",
      "weighted avg       0.80      0.80      0.80    639584\n",
      " ##########################################################\n",
      "Classification report: Test set\n",
      "               precision    recall  f1-score   support\n",
      "\n",
      "    No Fraud       0.78      0.82      0.80    137054\n",
      "       Fraud       0.81      0.77      0.79    137054\n",
      "\n",
      "    accuracy                           0.80    274108\n",
      "   macro avg       0.80      0.80      0.80    274108\n",
      "weighted avg       0.80      0.80      0.80    274108\n",
      " ##########################################################\n",
      "Avg. f1 score: cross-validation set\n",
      " 0.79\n"
     ]
    }
   ],
   "source": [
    "print('Classification report: Train set\\n', classification_report(y_train, logit_y_pred_train, target_names=['No Fraud','Fraud']),\n",
    "     '##########################################################')\n",
    "print('Classification report: Test set\\n', classification_report(y_test, logit_y_pred_test, target_names=['No Fraud','Fraud']),\n",
    "      '##########################################################')\n",
    "print('Avg. f1 score: cross-validation set\\n', round(logit_cv.mean(), 2))"
   ]
  },
  {
   "cell_type": "code",
   "execution_count": 52,
   "metadata": {},
   "outputs": [
    {
     "data": {
      "image/png": "[encoded data removed]",
      "text/plain": [
       "<Figure size 432x288 with 1 Axes>"
      ]
     },
     "metadata": {
      "needs_background": "light"
     },
     "output_type": "display_data"
    }
   ],
   "source": [
    "# Train FPR and TPR\n",
    "logit_probs_train = logit.predict_proba(X_train)\n",
    "fpr_train, tpr_train, threshold_train = metrics.roc_curve(y_train, logit_probs_train[:,1])\n",
    "roc_auc_train = metrics.auc(fpr_train, tpr_train)\n",
    "\n",
    "# Test FPR and TPR\n",
    "logit_probs_test = logit.predict_proba(X_test)\n",
    "fpr_test_logit, tpr_test_logit, threshold_test = metrics.roc_curve(y_test, logit_probs_test[:,1])\n",
    "roc_auc_test_logit = metrics.auc(fpr_test_logit, tpr_test_logit)\n",
    "\n",
    "plt.title('Receiver Operating Characteristic')\n",
    "plt.plot(fpr_train, tpr_train, label = 'AUC Train = %0.2f' % roc_auc_train)\n",
    "plt.plot(fpr_test_logit, tpr_test_logit, label = 'AUC Test = %0.2f' % roc_auc_test_logit)\n",
    "plt.legend(loc = 'lower right')\n",
    "plt.plot([0, 1], [0, 1],'r--')\n",
    "plt.xlim([0, 1])\n",
    "plt.ylim([0, 1])\n",
    "plt.ylabel('True Positive Rate')\n",
    "plt.xlabel('False Positive Rate')\n",
    "plt.show()\n",
    "\n",
    "del fpr_train, tpr_train, threshold_train, threshold_test, roc_auc_train"
   ]
  },
  {
   "cell_type": "markdown",
   "metadata": {},
   "source": [
    "### 5.1.2) Ridge Regularization"
   ]
  },
  {
   "cell_type": "code",
   "execution_count": 53,
   "metadata": {},
   "outputs": [],
   "source": [
    "logit_l2 = LogisticRegression(C=10, penalty='l2', solver='lbfgs')\n",
    "logit_l2 = logit.fit(X_train, y_train)"
   ]
  },
  {
   "cell_type": "code",
   "execution_count": 54,
   "metadata": {},
   "outputs": [],
   "source": [
    "# Train score\n",
    "logit_l2_y_pred_train = logit_l2.predict(X_train)\n",
    "\n",
    "# Cross-validation error\n",
    "logit_l2_cv = cross_val_score(logit_l2, X_train, y_train, scoring = 'f1', cv = 10, n_jobs = -1)\n",
    "\n",
    "# Test score\n",
    "logit_l2_y_pred_test = logit_l2.predict(X_test)"
   ]
  },
  {
   "cell_type": "code",
   "execution_count": 55,
   "metadata": {},
   "outputs": [
    {
     "name": "stdout",
     "output_type": "stream",
     "text": [
      "Classification report: Train set\n",
      "               precision    recall  f1-score   support\n",
      "\n",
      "    No Fraud       0.78      0.82      0.80    319792\n",
      "       Fraud       0.81      0.77      0.79    319792\n",
      "\n",
      "    accuracy                           0.80    639584\n",
      "   macro avg       0.80      0.80      0.80    639584\n",
      "weighted avg       0.80      0.80      0.80    639584\n",
      " ##########################################################\n",
      "Classification report: Test set\n",
      "               precision    recall  f1-score   support\n",
      "\n",
      "    No Fraud       0.78      0.82      0.80    137054\n",
      "       Fraud       0.81      0.77      0.79    137054\n",
      "\n",
      "    accuracy                           0.80    274108\n",
      "   macro avg       0.80      0.80      0.80    274108\n",
      "weighted avg       0.80      0.80      0.80    274108\n",
      " ##########################################################\n",
      "Avg. f1 score: cross-validation set\n",
      " 0.79\n"
     ]
    }
   ],
   "source": [
    "print('Classification report: Train set\\n', classification_report(y_train, logit_l2_y_pred_train, target_names=['No Fraud','Fraud']),\n",
    "     '##########################################################')\n",
    "print('Classification report: Test set\\n', classification_report(y_test, logit_l2_y_pred_test, target_names=['No Fraud','Fraud']),\n",
    "      '##########################################################')\n",
    "print('Avg. f1 score: cross-validation set\\n', round(logit_l2_cv.mean(), 2))"
   ]
  },
  {
   "cell_type": "code",
   "execution_count": 56,
   "metadata": {},
   "outputs": [
    {
     "data": {
      "image/png": "[encoded data removed]",
      "text/plain": [
       "<Figure size 432x288 with 1 Axes>"
      ]
     },
     "metadata": {
      "needs_background": "light"
     },
     "output_type": "display_data"
    }
   ],
   "source": [
    "# Train FPR and TPR\n",
    "logit_l2_probs_train = logit_l2.predict_proba(X_train)\n",
    "fpr_train, tpr_train, threshold_train = metrics.roc_curve(y_train, logit_l2_probs_train[:,1])\n",
    "roc_auc_train = metrics.auc(fpr_train, tpr_train)\n",
    "\n",
    "# Test FPR and TPR\n",
    "logit_l2_probs_test = logit_l2.predict_proba(X_test)\n",
    "fpr_test_logit_l2, tpr_test_logit_l2, threshold_test = metrics.roc_curve(y_test, logit_l2_probs_test[:,1])\n",
    "roc_auc_test_logit_l2 = metrics.auc(fpr_test_logit_l2, tpr_test_logit_l2)\n",
    "\n",
    "plt.title('Receiver Operating Characteristic')\n",
    "plt.plot(fpr_train, tpr_train, label = 'AUC Train = %0.2f' % roc_auc_train)\n",
    "plt.plot(fpr_test_logit_l2, tpr_test_logit_l2, label = 'AUC Test = %0.2f' % roc_auc_test_logit_l2)\n",
    "plt.legend(loc = 'lower right')\n",
    "plt.plot([0, 1], [0, 1],'r--')\n",
    "plt.xlim([0, 1])\n",
    "plt.ylim([0, 1])\n",
    "plt.ylabel('True Positive Rate')\n",
    "plt.xlabel('False Positive Rate')\n",
    "plt.show()\n",
    "\n",
    "del fpr_train, tpr_train, threshold_train, threshold_test, roc_auc_train"
   ]
  },
  {
   "cell_type": "code",
   "execution_count": null,
   "metadata": {},
   "outputs": [],
   "source": []
  },
  {
   "cell_type": "markdown",
   "metadata": {},
   "source": [
    "## 5.2) Tuning Random Forest\n"
   ]
  },
  {
   "cell_type": "code",
   "execution_count": null,
   "metadata": {},
   "outputs": [],
   "source": []
  },
  {
   "cell_type": "code",
   "execution_count": 57,
   "metadata": {},
   "outputs": [
    {
     "name": "stdout",
     "output_type": "stream",
     "text": [
      "Fitting 3 folds for each of 81 candidates, totalling 243 fits\n"
     ]
    },
    {
     "name": "stderr",
     "output_type": "stream",
     "text": [
      "[Parallel(n_jobs=-1)]: Using backend LokyBackend with 8 concurrent workers.\n",
      "[Parallel(n_jobs=-1)]: Done  25 tasks      | elapsed:  6.7min\n",
      "[Parallel(n_jobs=-1)]: Done 146 tasks      | elapsed: 55.1min\n",
      "[Parallel(n_jobs=-1)]: Done 243 out of 243 | elapsed: 145.0min finished\n"
     ]
    },
    {
     "data": {
      "text/plain": [
       "GridSearchCV(cv=3, error_score='raise-deprecating',\n",
       "             estimator=RandomForestClassifier(bootstrap=True, class_weight=None,\n",
       "                                              criterion='gini', max_depth=None,\n",
       "                                              max_features='auto',\n",
       "                                              max_leaf_nodes=None,\n",
       "                                              min_impurity_decrease=0.0,\n",
       "                                              min_impurity_split=None,\n",
       "                                              min_samples_leaf=1,\n",
       "                                              min_samples_split=2,\n",
       "                                              min_weight_fraction_leaf=0.0,\n",
       "                                              n_estimators=10, n_jobs=None,\n",
       "                                              oob_score=False,\n",
       "                                              random_state=None, verbose=0,\n",
       "                                              warm_start=False),\n",
       "             iid='warn', n_jobs=-1,\n",
       "             param_grid={'max_depth': [2, 5, 10], 'min_samples_leaf': [3, 4, 5],\n",
       "                         'min_samples_split': [8, 10, 12],\n",
       "                         'n_estimators': [100, 200, 300]},\n",
       "             pre_dispatch='2*n_jobs', refit=True, return_train_score=False,\n",
       "             scoring=None, verbose=2)"
      ]
     },
     "execution_count": 57,
     "metadata": {},
     "output_type": "execute_result"
    }
   ],
   "source": [
    "# Create the parameter grid based on the results of random search \n",
    "param_grid = {'max_depth': [2, 5, 10], # From the feature importance, we can see that mainly 10 features are accounting for almost all information gain\n",
    "              'min_samples_leaf': [3, 4, 5],\n",
    "              'min_samples_split': [8, 10, 12],\n",
    "              'n_estimators': [100, 200, 300]}\n",
    "\n",
    "# Instantiate the grid search model\n",
    "rf_grid = GridSearchCV(estimator = rf, param_grid = param_grid, cv = 3, n_jobs = -1, verbose = 2)\n",
    "rf_grid.fit(X_train, y_train)"
   ]
  },
  {
   "cell_type": "code",
   "execution_count": 63,
   "metadata": {},
   "outputs": [],
   "source": [
    "\n",
    "# Train score\n",
    "rf_y_pred_train_grid = rf_grid.predict(X_train)\n",
    "\n",
    "# Cross-validation error\n",
    "#rf_cv_grid = cross_val_score(rf_grid, X_train, y_train, scoring = 'f1', cv = 10, n_jobs = -1)\n",
    "\n",
    "# Test score\n",
    "rf_y_pred_test_grid = rf_grid.predict(X_test)"
   ]
  },
  {
   "cell_type": "code",
   "execution_count": 64,
   "metadata": {},
   "outputs": [
    {
     "name": "stdout",
     "output_type": "stream",
     "text": [
      "Classification report: Train set\n",
      "               precision    recall  f1-score   support\n",
      "\n",
      "    No Fraud       1.00      1.00      1.00    319792\n",
      "       Fraud       1.00      1.00      1.00    319792\n",
      "\n",
      "    accuracy                           1.00    639584\n",
      "   macro avg       1.00      1.00      1.00    639584\n",
      "weighted avg       1.00      1.00      1.00    639584\n",
      " ##########################################################\n",
      "Classification report: Test set\n",
      "               precision    recall  f1-score   support\n",
      "\n",
      "    No Fraud       1.00      1.00      1.00    137054\n",
      "       Fraud       1.00      1.00      1.00    137054\n",
      "\n",
      "    accuracy                           1.00    274108\n",
      "   macro avg       1.00      1.00      1.00    274108\n",
      "weighted avg       1.00      1.00      1.00    274108\n",
      " ##########################################################\n"
     ]
    },
    {
     "ename": "NameError",
     "evalue": "name 'rf_cv_grid' is not defined",
     "output_type": "error",
     "traceback": [
      "\u001b[0;31m---------------------------------------------------------------------------\u001b[0m",
      "\u001b[0;31mNameError\u001b[0m                                 Traceback (most recent call last)",
      "\u001b[0;32m<ipython-input-64-183e290157b5>\u001b[0m in \u001b[0;36m<module>\u001b[0;34m\u001b[0m\n\u001b[1;32m      3\u001b[0m print('Classification report: Test set\\n', classification_report(y_test, rf_y_pred_test_grid, target_names=['No Fraud','Fraud']),\n\u001b[1;32m      4\u001b[0m       '##########################################################')\n\u001b[0;32m----> 5\u001b[0;31m \u001b[0mprint\u001b[0m\u001b[0;34m(\u001b[0m\u001b[0;34m'Avg. f1 score: cross-validation set\\n'\u001b[0m\u001b[0;34m,\u001b[0m \u001b[0mround\u001b[0m\u001b[0;34m(\u001b[0m\u001b[0mrf_cv_grid\u001b[0m\u001b[0;34m.\u001b[0m\u001b[0mmean\u001b[0m\u001b[0;34m(\u001b[0m\u001b[0;34m)\u001b[0m\u001b[0;34m,\u001b[0m \u001b[0;36m2\u001b[0m\u001b[0;34m)\u001b[0m\u001b[0;34m)\u001b[0m\u001b[0;34m\u001b[0m\u001b[0m\n\u001b[0m",
      "\u001b[0;31mNameError\u001b[0m: name 'rf_cv_grid' is not defined"
     ]
    }
   ],
   "source": [
    "print('Classification report: Train set\\n', classification_report(y_train, rf_y_pred_train_grid, target_names=['No Fraud','Fraud']),\n",
    "     '##########################################################')\n",
    "print('Classification report: Test set\\n', classification_report(y_test, rf_y_pred_test_grid, target_names=['No Fraud','Fraud']),\n",
    "      '##########################################################')\n",
    "print('Avg. f1 score: cross-validation set\\n', round(rf_cv_grid.mean(), 2))"
   ]
  },
  {
   "cell_type": "code",
   "execution_count": 65,
   "metadata": {},
   "outputs": [
    {
     "data": {
      "image/png": "[encoded data removed]",
      "text/plain": [
       "<Figure size 432x288 with 1 Axes>"
      ]
     },
     "metadata": {
      "needs_background": "light"
     },
     "output_type": "display_data"
    }
   ],
   "source": [
    "# Train FPR and TPR\n",
    "rf_probs_train = rf_grid.predict_proba(X_train)\n",
    "fpr_train, tpr_train, threshold_train = metrics.roc_curve(y_train, rf_probs_train[:,1])\n",
    "roc_auc_train = metrics.auc(fpr_train, tpr_train)\n",
    "\n",
    "# Test FPR and TPR\n",
    "rf_probs_test = rf_grid.predict_proba(X_test)\n",
    "fpr_test_rf, tpr_test_rf, threshold_test = metrics.roc_curve(y_test, rf_probs_test[:,1])\n",
    "roc_auc_test_rf = metrics.auc(fpr_test_rf, tpr_test_rf)\n",
    "\n",
    "plt.title('Receiver Operating Characteristic')\n",
    "plt.plot(fpr_train, tpr_train, label = 'AUC Train = %0.2f' % roc_auc_train)\n",
    "plt.plot(fpr_test_rf, tpr_test_rf, label = 'AUC Test = %0.2f' % roc_auc_test_rf)\n",
    "plt.legend(loc = 'lower right')\n",
    "plt.plot([0, 1], [0, 1],'r--')\n",
    "plt.xlim([0, 1])\n",
    "plt.ylim([0, 1])\n",
    "plt.ylabel('True Positive Rate')\n",
    "plt.xlabel('False Positive Rate')\n",
    "plt.show()\n",
    "\n",
    "del fpr_train, tpr_train, threshold_train, threshold_test, roc_auc_train"
   ]
  },
  {
   "cell_type": "markdown",
   "metadata": {},
   "source": [
    "## 5.3) Tuning XGBoost"
   ]
  },
  {
   "cell_type": "code",
   "execution_count": 68,
   "metadata": {},
   "outputs": [
    {
     "name": "stdout",
     "output_type": "stream",
     "text": [
      "Fitting 3 folds for each of 18 candidates, totalling 54 fits\n"
     ]
    },
    {
     "name": "stderr",
     "output_type": "stream",
     "text": [
      "[Parallel(n_jobs=-1)]: Using backend LokyBackend with 8 concurrent workers.\n",
      "[Parallel(n_jobs=-1)]: Done  25 tasks      | elapsed: 15.4min\n",
      "[Parallel(n_jobs=-1)]: Done  54 out of  54 | elapsed: 33.4min finished\n"
     ]
    },
    {
     "data": {
      "text/plain": [
       "GridSearchCV(cv=3, error_score='raise-deprecating',\n",
       "             estimator=XGBClassifier(base_score=0.5, booster='gbtree',\n",
       "                                     colsample_bylevel=1, colsample_bynode=1,\n",
       "                                     colsample_bytree=1, gamma=0,\n",
       "                                     learning_rate=0.1, max_delta_step=0,\n",
       "                                     max_depth=3, min_child_weight=1,\n",
       "                                     missing=None, n_estimators=100, n_jobs=1,\n",
       "                                     nthread=None, objective='binary:logistic',\n",
       "                                     random_state=0, reg_alpha=0, reg_lambda=1,\n",
       "                                     scale_pos_weight=1, seed=None, silent=None,\n",
       "                                     subsample=1, verbosity=1),\n",
       "             iid='warn', n_jobs=-1,\n",
       "             param_grid={'eta': [0.01, 0.1, 0.2], 'max_depth': [2, 5, 10],\n",
       "                         'min_child_weight': [2, 4]},\n",
       "             pre_dispatch='2*n_jobs', refit=True, return_train_score=False,\n",
       "             scoring='f1', verbose=2)"
      ]
     },
     "execution_count": 68,
     "metadata": {},
     "output_type": "execute_result"
    }
   ],
   "source": [
    "# Create the parameter grid based on the results of random search \n",
    "param_grid = {'eta': [0.01,0.1,0.2], # From the feature importance, we can see that mainly 10 features are accounting for almost all information gain\n",
    "              'max_depth': [2, 5, 10],\n",
    "              'min_child_weight': [2, 4]}\n",
    "\n",
    "# Instantiate the grid search model\n",
    "xgb_grid = GridSearchCV(estimator = xgb, param_grid = param_grid, cv = 3, n_jobs = -1, verbose = 2, scoring = 'f1')\n",
    "xgb_grid.fit(X_train, y_train)"
   ]
  },
  {
   "cell_type": "code",
   "execution_count": 144,
   "metadata": {},
   "outputs": [
    {
     "data": {
      "text/plain": [
       "XGBClassifier(base_score=0.5, booster='gbtree', colsample_bylevel=1,\n",
       "              colsample_bynode=1, colsample_bytree=1, eta=0.01, gamma=0,\n",
       "              learning_rate=0.1, max_delta_step=0, max_depth=5,\n",
       "              min_child_weight=2, missing=None, n_estimators=100, n_jobs=1,\n",
       "              nthread=None, objective='binary:logistic', random_state=0,\n",
       "              reg_alpha=0, reg_lambda=1, scale_pos_weight=1, seed=None,\n",
       "              silent=None, subsample=1, verbosity=1)"
      ]
     },
     "execution_count": 144,
     "metadata": {},
     "output_type": "execute_result"
    }
   ],
   "source": [
    "xgb_grid.best_estimator_"
   ]
  },
  {
   "cell_type": "code",
   "execution_count": 70,
   "metadata": {},
   "outputs": [],
   "source": [
    "# Train score\n",
    "xgb_y_pred_train = xgb_grid.predict(X_train)\n",
    "\n",
    "# Cross-validation error\n",
    "#xgb_cv = cross_val_score(xgb_grid, X_train, y_train, scoring = 'f1', cv = 10, n_jobs = -1, verbose = 2)\n",
    "\n",
    "# Test score\n",
    "xgb_y_pred_test = xgb_grid.predict(X_test)"
   ]
  },
  {
   "cell_type": "code",
   "execution_count": 71,
   "metadata": {},
   "outputs": [
    {
     "name": "stdout",
     "output_type": "stream",
     "text": [
      "Classification report: Train set\n",
      "               precision    recall  f1-score   support\n",
      "\n",
      "    No Fraud       1.00      1.00      1.00    319792\n",
      "       Fraud       1.00      1.00      1.00    319792\n",
      "\n",
      "    accuracy                           1.00    639584\n",
      "   macro avg       1.00      1.00      1.00    639584\n",
      "weighted avg       1.00      1.00      1.00    639584\n",
      " ##########################################################\n",
      "Classification report: Test set\n",
      "               precision    recall  f1-score   support\n",
      "\n",
      "    No Fraud       1.00      1.00      1.00    137054\n",
      "       Fraud       1.00      1.00      1.00    137054\n",
      "\n",
      "    accuracy                           1.00    274108\n",
      "   macro avg       1.00      1.00      1.00    274108\n",
      "weighted avg       1.00      1.00      1.00    274108\n",
      " ##########################################################\n",
      "Avg. f1 score: cross-validation set\n",
      " 1.0\n"
     ]
    }
   ],
   "source": [
    "print('Classification report: Train set\\n', classification_report(y_train, xgb_y_pred_train, target_names=['No Fraud','Fraud']),\n",
    "     '##########################################################')\n",
    "print('Classification report: Test set\\n', classification_report(y_test, xgb_y_pred_test, target_names=['No Fraud','Fraud']),\n",
    "      '##########################################################')\n",
    "print('Avg. f1 score: cross-validation set\\n', round(xgb_cv.mean(), 2))"
   ]
  },
  {
   "cell_type": "code",
   "execution_count": 72,
   "metadata": {},
   "outputs": [
    {
     "data": {
      "image/png": "[encoded data removed]",
      "text/plain": [
       "<Figure size 432x288 with 1 Axes>"
      ]
     },
     "metadata": {
      "needs_background": "light"
     },
     "output_type": "display_data"
    }
   ],
   "source": [
    "# Train FPR and TPR\n",
    "xgb_probs_train = xgb_grid.predict_proba(X_train)\n",
    "fpr_train, tpr_train, threshold_train = metrics.roc_curve(y_train, xgb_probs_train[:,1])\n",
    "roc_auc_train = metrics.auc(fpr_train, tpr_train)\n",
    "\n",
    "# Test FPR and TPR\n",
    "xgb_probs_test = xgb.predict_proba(X_test)\n",
    "fpr_test_xgb, tpr_test_xgb, threshold_test = metrics.roc_curve(y_test, xgb_probs_test[:,1])\n",
    "roc_auc_test_xgb = metrics.auc(fpr_test_xgb, tpr_test_xgb)\n",
    "\n",
    "plt.title('Receiver Operating Characteristic')\n",
    "plt.plot(fpr_train, tpr_train, label = 'AUC Train = %0.2f' % roc_auc_train)\n",
    "plt.plot(fpr_test_xgb, tpr_test_xgb, label = 'AUC Test = %0.2f' % roc_auc_test_xgb)\n",
    "plt.legend(loc = 'lower right')\n",
    "plt.plot([0, 1], [0, 1],'r--')\n",
    "plt.xlim([0, 1])\n",
    "plt.ylim([0, 1])\n",
    "plt.ylabel('True Positive Rate')\n",
    "plt.xlabel('False Positive Rate')\n",
    "plt.show()\n",
    "\n",
    "del fpr_train, tpr_train, threshold_train, threshold_test, roc_auc_train"
   ]
  },
  {
   "cell_type": "code",
   "execution_count": null,
   "metadata": {},
   "outputs": [],
   "source": []
  },
  {
   "cell_type": "markdown",
   "metadata": {},
   "source": [
    "# 6.) Finding optimal threshold to make predictions more generalizable\n",
    "\n",
    "Because we previously have under-sampled the dataset, the models are trained on way more actual download data than we would expect in a real-world setting. Therefore, we need to account for this. One option to do so is by increasing the threshold of 0.5. This might decrease the, previously perfect, accurracy, but will make the model more generalizable for the hold-out set.<br>\n",
    "\n",
    "Taking probabilities previously calculated."
   ]
  },
  {
   "cell_type": "code",
   "execution_count": 73,
   "metadata": {},
   "outputs": [],
   "source": [
    "def threshold_metrices(model_probs, threshold_probs, y_true):\n",
    "    threshold = []\n",
    "    accuracy = []\n",
    "    f1 = []\n",
    "    recall = []\n",
    "    precision = []\n",
    "    for i in threshold_probs:\n",
    "        threshold.append(i)\n",
    "        y_pred = [1 if x>i else 0 for x in model_probs[:,1]]\n",
    "        accuracy.append(accuracy_score(y_true, y_pred))\n",
    "        recall.append(recall_score(y_true, y_pred))\n",
    "        precision.append(precision_score(y_true, y_pred))\n",
    "        f1.append(f1_score(y_true, y_pred))\n",
    "    d = {'threshold': threshold, 'accuracy': accuracy, 'recall': recall, 'precision': precision, 'f1': f1}\n",
    "    threshold_metrices_df = pd.DataFrame(d)\n",
    "    return threshold_metrices_df"
   ]
  },
  {
   "cell_type": "markdown",
   "metadata": {},
   "source": [
    "## 6.1) Logistic Regression"
   ]
  },
  {
   "cell_type": "markdown",
   "metadata": {},
   "source": [
    "Looking at the distribution of predicted probabilities first:"
   ]
  },
  {
   "cell_type": "code",
   "execution_count": 74,
   "metadata": {},
   "outputs": [
    {
     "data": {
      "text/plain": [
       "Text(0, 0.5, 'Frequency')"
      ]
     },
     "execution_count": 74,
     "metadata": {},
     "output_type": "execute_result"
    },
    {
     "data": {
      "image/png": "[encoded data removed]",
      "text/plain": [
       "<Figure size 432x288 with 1 Axes>"
      ]
     },
     "metadata": {
      "needs_background": "light"
     },
     "output_type": "display_data"
    }
   ],
   "source": [
    "plt.hist(logit_probs_train[logit_probs_train[:,1]>0.5][:,1], bins=20)\n",
    "\n",
    "plt.xlim(0,1)\n",
    "plt.title('Histogram of predicted probabilities - Logit')\n",
    "plt.xlabel('Predicted probability')\n",
    "plt.ylabel('Frequency')"
   ]
  },
  {
   "cell_type": "markdown",
   "metadata": {},
   "source": [
    "It seems like most of the predictions have a probability of 0.9 or higher, while there are still some predictions that might be ambigious.<br>"
   ]
  },
  {
   "cell_type": "code",
   "execution_count": 75,
   "metadata": {},
   "outputs": [],
   "source": [
    "threshold_probas = np.linspace(start = 0.05, stop = 0.95, num = 18)\n",
    "\n",
    "logit_metr_thre_train = threshold_metrices(logit_probs_train, threshold_probas, y_train)"
   ]
  },
  {
   "cell_type": "code",
   "execution_count": 76,
   "metadata": {},
   "outputs": [
    {
     "data": {
      "text/html": [
       "<div>\n",
       "<style scoped>\n",
       "    .dataframe tbody tr th:only-of-type {\n",
       "        vertical-align: middle;\n",
       "    }\n",
       "\n",
       "    .dataframe tbody tr th {\n",
       "        vertical-align: top;\n",
       "    }\n",
       "\n",
       "    .dataframe thead th {\n",
       "        text-align: right;\n",
       "    }\n",
       "</style>\n",
       "<table border=\"1\" class=\"dataframe\">\n",
       "  <thead>\n",
       "    <tr style=\"text-align: right;\">\n",
       "      <th></th>\n",
       "      <th>accuracy</th>\n",
       "      <th>f1</th>\n",
       "      <th>precision</th>\n",
       "      <th>recall</th>\n",
       "      <th>threshold</th>\n",
       "    </tr>\n",
       "  </thead>\n",
       "  <tbody>\n",
       "    <tr>\n",
       "      <th>0</th>\n",
       "      <td>0.502558</td>\n",
       "      <td>0.667747</td>\n",
       "      <td>0.501283</td>\n",
       "      <td>0.999737</td>\n",
       "      <td>0.050000</td>\n",
       "    </tr>\n",
       "    <tr>\n",
       "      <th>1</th>\n",
       "      <td>0.567334</td>\n",
       "      <td>0.693325</td>\n",
       "      <td>0.536963</td>\n",
       "      <td>0.978161</td>\n",
       "      <td>0.102941</td>\n",
       "    </tr>\n",
       "    <tr>\n",
       "      <th>2</th>\n",
       "      <td>0.636772</td>\n",
       "      <td>0.718994</td>\n",
       "      <td>0.586281</td>\n",
       "      <td>0.929370</td>\n",
       "      <td>0.155882</td>\n",
       "    </tr>\n",
       "    <tr>\n",
       "      <th>3</th>\n",
       "      <td>0.648751</td>\n",
       "      <td>0.725174</td>\n",
       "      <td>0.595589</td>\n",
       "      <td>0.926827</td>\n",
       "      <td>0.208824</td>\n",
       "    </tr>\n",
       "    <tr>\n",
       "      <th>4</th>\n",
       "      <td>0.683086</td>\n",
       "      <td>0.739559</td>\n",
       "      <td>0.627704</td>\n",
       "      <td>0.899922</td>\n",
       "      <td>0.261765</td>\n",
       "    </tr>\n",
       "    <tr>\n",
       "      <th>5</th>\n",
       "      <td>0.765182</td>\n",
       "      <td>0.781487</td>\n",
       "      <td>0.730745</td>\n",
       "      <td>0.839802</td>\n",
       "      <td>0.314706</td>\n",
       "    </tr>\n",
       "    <tr>\n",
       "      <th>6</th>\n",
       "      <td>0.803611</td>\n",
       "      <td>0.805095</td>\n",
       "      <td>0.799058</td>\n",
       "      <td>0.811224</td>\n",
       "      <td>0.367647</td>\n",
       "    </tr>\n",
       "    <tr>\n",
       "      <th>7</th>\n",
       "      <td>0.803610</td>\n",
       "      <td>0.803740</td>\n",
       "      <td>0.803208</td>\n",
       "      <td>0.804273</td>\n",
       "      <td>0.420588</td>\n",
       "    </tr>\n",
       "    <tr>\n",
       "      <th>8</th>\n",
       "      <td>0.798916</td>\n",
       "      <td>0.795519</td>\n",
       "      <td>0.809190</td>\n",
       "      <td>0.782302</td>\n",
       "      <td>0.473529</td>\n",
       "    </tr>\n",
       "    <tr>\n",
       "      <th>9</th>\n",
       "      <td>0.798078</td>\n",
       "      <td>0.776477</td>\n",
       "      <td>0.869495</td>\n",
       "      <td>0.701437</td>\n",
       "      <td>0.526471</td>\n",
       "    </tr>\n",
       "    <tr>\n",
       "      <th>10</th>\n",
       "      <td>0.776930</td>\n",
       "      <td>0.732920</td>\n",
       "      <td>0.913060</td>\n",
       "      <td>0.612148</td>\n",
       "      <td>0.579412</td>\n",
       "    </tr>\n",
       "    <tr>\n",
       "      <th>11</th>\n",
       "      <td>0.776905</td>\n",
       "      <td>0.732864</td>\n",
       "      <td>0.913123</td>\n",
       "      <td>0.612042</td>\n",
       "      <td>0.632353</td>\n",
       "    </tr>\n",
       "    <tr>\n",
       "      <th>12</th>\n",
       "      <td>0.775298</td>\n",
       "      <td>0.729988</td>\n",
       "      <td>0.914363</td>\n",
       "      <td>0.607492</td>\n",
       "      <td>0.685294</td>\n",
       "    </tr>\n",
       "    <tr>\n",
       "      <th>13</th>\n",
       "      <td>0.775307</td>\n",
       "      <td>0.729786</td>\n",
       "      <td>0.915198</td>\n",
       "      <td>0.606844</td>\n",
       "      <td>0.738235</td>\n",
       "    </tr>\n",
       "    <tr>\n",
       "      <th>14</th>\n",
       "      <td>0.774347</td>\n",
       "      <td>0.727176</td>\n",
       "      <td>0.919363</td>\n",
       "      <td>0.601447</td>\n",
       "      <td>0.791176</td>\n",
       "    </tr>\n",
       "    <tr>\n",
       "      <th>15</th>\n",
       "      <td>0.771287</td>\n",
       "      <td>0.722280</td>\n",
       "      <td>0.919252</td>\n",
       "      <td>0.594824</td>\n",
       "      <td>0.844118</td>\n",
       "    </tr>\n",
       "    <tr>\n",
       "      <th>16</th>\n",
       "      <td>0.765731</td>\n",
       "      <td>0.712761</td>\n",
       "      <td>0.921005</td>\n",
       "      <td>0.581322</td>\n",
       "      <td>0.897059</td>\n",
       "    </tr>\n",
       "    <tr>\n",
       "      <th>17</th>\n",
       "      <td>0.506831</td>\n",
       "      <td>0.029996</td>\n",
       "      <td>0.905664</td>\n",
       "      <td>0.015251</td>\n",
       "      <td>0.950000</td>\n",
       "    </tr>\n",
       "  </tbody>\n",
       "</table>\n",
       "</div>"
      ],
      "text/plain": [
       "    accuracy        f1  precision    recall  threshold\n",
       "0   0.502558  0.667747   0.501283  0.999737   0.050000\n",
       "1   0.567334  0.693325   0.536963  0.978161   0.102941\n",
       "2   0.636772  0.718994   0.586281  0.929370   0.155882\n",
       "3   0.648751  0.725174   0.595589  0.926827   0.208824\n",
       "4   0.683086  0.739559   0.627704  0.899922   0.261765\n",
       "5   0.765182  0.781487   0.730745  0.839802   0.314706\n",
       "6   0.803611  0.805095   0.799058  0.811224   0.367647\n",
       "7   0.803610  0.803740   0.803208  0.804273   0.420588\n",
       "8   0.798916  0.795519   0.809190  0.782302   0.473529\n",
       "9   0.798078  0.776477   0.869495  0.701437   0.526471\n",
       "10  0.776930  0.732920   0.913060  0.612148   0.579412\n",
       "11  0.776905  0.732864   0.913123  0.612042   0.632353\n",
       "12  0.775298  0.729988   0.914363  0.607492   0.685294\n",
       "13  0.775307  0.729786   0.915198  0.606844   0.738235\n",
       "14  0.774347  0.727176   0.919363  0.601447   0.791176\n",
       "15  0.771287  0.722280   0.919252  0.594824   0.844118\n",
       "16  0.765731  0.712761   0.921005  0.581322   0.897059\n",
       "17  0.506831  0.029996   0.905664  0.015251   0.950000"
      ]
     },
     "execution_count": 76,
     "metadata": {},
     "output_type": "execute_result"
    }
   ],
   "source": [
    "logit_metr_thre_train"
   ]
  },
  {
   "cell_type": "code",
   "execution_count": 77,
   "metadata": {},
   "outputs": [
    {
     "data": {
      "image/png": "[encoded data removed]",
      "text/plain": [
       "<Figure size 432x288 with 1 Axes>"
      ]
     },
     "metadata": {
      "needs_background": "light"
     },
     "output_type": "display_data"
    }
   ],
   "source": [
    "plt.plot(logit_metr_thre_train.threshold, logit_metr_thre_train.accuracy)\n",
    "plt.plot(logit_metr_thre_train.threshold, logit_metr_thre_train.recall)\n",
    "plt.plot(logit_metr_thre_train.threshold, logit_metr_thre_train.precision)\n",
    "plt.plot(logit_metr_thre_train.threshold, logit_metr_thre_train.f1)\n",
    "plt.legend(['accuracy', 'recall', 'precision', 'f1'], loc='lower left')\n",
    "plt.title('Threshold evaluation - Logistic Regression (train)')\n",
    "plt.xlabel('Thresholds')\n",
    "plt.ylabel('Score')\n",
    "plt.show()"
   ]
  },
  {
   "cell_type": "code",
   "execution_count": 78,
   "metadata": {},
   "outputs": [
    {
     "data": {
      "image/png": "[encoded data removed]",
      "text/plain": [
       "<Figure size 432x288 with 1 Axes>"
      ]
     },
     "metadata": {
      "needs_background": "light"
     },
     "output_type": "display_data"
    }
   ],
   "source": [
    "logit_metr_thre_test = threshold_metrices(logit_probs_test, threshold_probas, y_test)\n",
    "\n",
    "plt.plot(logit_metr_thre_test.threshold, logit_metr_thre_test.accuracy)\n",
    "plt.plot(logit_metr_thre_test.threshold, logit_metr_thre_test.recall)\n",
    "plt.plot(logit_metr_thre_test.threshold, logit_metr_thre_test.precision)\n",
    "plt.plot(logit_metr_thre_test.threshold, logit_metr_thre_test.f1)\n",
    "plt.legend(['accuracy', 'recall', 'precision', 'f1'], loc='lower left')\n",
    "plt.title('Threshold evaluation - Logistic Regression (test)')\n",
    "plt.xlabel('Thresholds')\n",
    "plt.ylabel('Score')\n",
    "plt.show()"
   ]
  },
  {
   "cell_type": "code",
   "execution_count": null,
   "metadata": {},
   "outputs": [],
   "source": []
  },
  {
   "cell_type": "markdown",
   "metadata": {},
   "source": [
    "## 6.2) Random Forest"
   ]
  },
  {
   "cell_type": "code",
   "execution_count": null,
   "metadata": {},
   "outputs": [],
   "source": []
  },
  {
   "cell_type": "code",
   "execution_count": 79,
   "metadata": {},
   "outputs": [
    {
     "data": {
      "text/plain": [
       "Text(0, 0.5, 'Frequency')"
      ]
     },
     "execution_count": 79,
     "metadata": {},
     "output_type": "execute_result"
    },
    {
     "data": {
      "image/png": "[encoded data removed]",
      "text/plain": [
       "<Figure size 432x288 with 1 Axes>"
      ]
     },
     "metadata": {
      "needs_background": "light"
     },
     "output_type": "display_data"
    }
   ],
   "source": [
    "plt.hist(rf_probs_train[rf_probs_train[:,1]>0.5][:,1], bins=20)\n",
    "\n",
    "plt.xlim(0,1)\n",
    "plt.title('Histogram of predicted probabilities - Random Forest')\n",
    "plt.xlabel('Predicted probability')\n",
    "plt.ylabel('Frequency')"
   ]
  },
  {
   "cell_type": "code",
   "execution_count": null,
   "metadata": {},
   "outputs": [],
   "source": []
  },
  {
   "cell_type": "code",
   "execution_count": 80,
   "metadata": {},
   "outputs": [
    {
     "data": {
      "image/png": "[encoded data removed]",
      "text/plain": [
       "<Figure size 432x288 with 1 Axes>"
      ]
     },
     "metadata": {
      "needs_background": "light"
     },
     "output_type": "display_data"
    }
   ],
   "source": [
    "rf_metr_thre_train = threshold_metrices(rf_probs_train, threshold_probas, y_train)\n",
    "\n",
    "plt.plot(rf_metr_thre_train.threshold, rf_metr_thre_train.accuracy)\n",
    "plt.plot(rf_metr_thre_train.threshold, rf_metr_thre_train.recall)\n",
    "plt.plot(rf_metr_thre_train.threshold, rf_metr_thre_train.precision)\n",
    "plt.plot(rf_metr_thre_train.threshold, rf_metr_thre_train.f1)\n",
    "plt.legend(['accuracy', 'recall', 'precision', 'f1'], loc='lower left')\n",
    "plt.title('Threshold evaluation - Random Forest (train)')\n",
    "plt.xlabel('Thresholds')\n",
    "plt.ylabel('Score')\n",
    "plt.show()"
   ]
  },
  {
   "cell_type": "code",
   "execution_count": 81,
   "metadata": {},
   "outputs": [
    {
     "data": {
      "image/png": "[encoded data removed]",
      "text/plain": [
       "<Figure size 432x288 with 1 Axes>"
      ]
     },
     "metadata": {
      "needs_background": "light"
     },
     "output_type": "display_data"
    }
   ],
   "source": [
    "rf_metr_thre_test = threshold_metrices(rf_probs_test, threshold_probas, y_test)\n",
    "\n",
    "plt.plot(rf_metr_thre_test.threshold, rf_metr_thre_test.accuracy)\n",
    "plt.plot(rf_metr_thre_test.threshold, rf_metr_thre_test.recall)\n",
    "plt.plot(rf_metr_thre_test.threshold, rf_metr_thre_test.precision)\n",
    "plt.plot(rf_metr_thre_test.threshold, rf_metr_thre_test.f1)\n",
    "plt.legend(['accuracy', 'recall', 'precision', 'f1'], loc='lower left')\n",
    "plt.title('Threshold evaluation - Random Forest (test)')\n",
    "plt.xlabel('Thresholds')\n",
    "plt.ylabel('Score')\n",
    "plt.show()"
   ]
  },
  {
   "cell_type": "code",
   "execution_count": null,
   "metadata": {},
   "outputs": [],
   "source": []
  },
  {
   "cell_type": "markdown",
   "metadata": {},
   "source": [
    "## 6.3) XGBoost\n"
   ]
  },
  {
   "cell_type": "code",
   "execution_count": null,
   "metadata": {},
   "outputs": [],
   "source": []
  },
  {
   "cell_type": "code",
   "execution_count": 82,
   "metadata": {},
   "outputs": [
    {
     "data": {
      "text/plain": [
       "Text(0, 0.5, 'Frequency')"
      ]
     },
     "execution_count": 82,
     "metadata": {},
     "output_type": "execute_result"
    },
    {
     "data": {
      "image/png": "[encoded data removed]",
      "text/plain": [
       "<Figure size 432x288 with 1 Axes>"
      ]
     },
     "metadata": {
      "needs_background": "light"
     },
     "output_type": "display_data"
    }
   ],
   "source": [
    "plt.hist(xgb_probs_train[xgb_probs_train[:,1]>0.5][:,1], bins=20)\n",
    "\n",
    "plt.xlim(0,1)\n",
    "plt.title('Histogram of predicted probabilities - Logit')\n",
    "plt.xlabel('Predicted probability')\n",
    "plt.ylabel('Frequency')"
   ]
  },
  {
   "cell_type": "code",
   "execution_count": null,
   "metadata": {},
   "outputs": [],
   "source": []
  },
  {
   "cell_type": "code",
   "execution_count": 83,
   "metadata": {},
   "outputs": [
    {
     "data": {
      "image/png": "[encoded data removed]",
      "text/plain": [
       "<Figure size 432x288 with 1 Axes>"
      ]
     },
     "metadata": {
      "needs_background": "light"
     },
     "output_type": "display_data"
    }
   ],
   "source": [
    "xgb_metr_thre_train = threshold_metrices(xgb_probs_train, threshold_probas, y_train)\n",
    "\n",
    "plt.plot(xgb_metr_thre_train.threshold, xgb_metr_thre_train.accuracy)\n",
    "plt.plot(xgb_metr_thre_train.threshold, xgb_metr_thre_train.recall)\n",
    "plt.plot(xgb_metr_thre_train.threshold, xgb_metr_thre_train.precision)\n",
    "plt.plot(xgb_metr_thre_train.threshold, xgb_metr_thre_train.f1)\n",
    "plt.legend(['accuracy', 'recall', 'precision', 'f1'], loc='lower left')\n",
    "plt.title('Threshold evaluation - XGBoost (train)')\n",
    "plt.xlabel('Thresholds')\n",
    "plt.ylabel('Score')\n",
    "plt.show()"
   ]
  },
  {
   "cell_type": "code",
   "execution_count": null,
   "metadata": {},
   "outputs": [],
   "source": []
  },
  {
   "cell_type": "code",
   "execution_count": 84,
   "metadata": {},
   "outputs": [
    {
     "data": {
      "image/png": "[encoded data removed]",
      "text/plain": [
       "<Figure size 432x288 with 1 Axes>"
      ]
     },
     "metadata": {
      "needs_background": "light"
     },
     "output_type": "display_data"
    }
   ],
   "source": [
    "xgb_metr_thre_test = threshold_metrices(xgb_probs_test, threshold_probas, y_test)\n",
    "\n",
    "plt.plot(xgb_metr_thre_test.threshold, xgb_metr_thre_test.accuracy)\n",
    "plt.plot(xgb_metr_thre_test.threshold, xgb_metr_thre_test.recall)\n",
    "plt.plot(xgb_metr_thre_test.threshold, xgb_metr_thre_test.precision)\n",
    "plt.plot(xgb_metr_thre_test.threshold, xgb_metr_thre_test.f1)\n",
    "plt.legend(['accuracy', 'recall', 'precision', 'f1'], loc='lower left')\n",
    "plt.title('Threshold evaluation - XGBoost (test)')\n",
    "plt.xlabel('Thresholds')\n",
    "plt.ylabel('Score')\n",
    "plt.show()"
   ]
  },
  {
   "cell_type": "code",
   "execution_count": null,
   "metadata": {},
   "outputs": [],
   "source": []
  },
  {
   "cell_type": "code",
   "execution_count": null,
   "metadata": {},
   "outputs": [],
   "source": []
  },
  {
   "cell_type": "code",
   "execution_count": null,
   "metadata": {},
   "outputs": [],
   "source": []
  },
  {
   "cell_type": "markdown",
   "metadata": {},
   "source": [
    "# 7.) Apply final model to test set"
   ]
  },
  {
   "cell_type": "code",
   "execution_count": 99,
   "metadata": {},
   "outputs": [],
   "source": [
    "from sklearn.preprocessing import StandardScaler"
   ]
  },
  {
   "cell_type": "code",
   "execution_count": 124,
   "metadata": {},
   "outputs": [],
   "source": [
    "# If running on the test set, make sure to separate out \"click_id\"\n",
    "def FeatureEngineer(df):\n",
    "    #Split out the clicktime\n",
    "    df.click_time = pd.to_datetime(df.click_time)\n",
    "    df['day'] = df['click_time'].dt.dayofweek.astype('uint8')\n",
    "    df['hour'] = df['click_time'].dt.hour.astype('uint8')\n",
    "    df['minute'] = df['click_time'].dt.minute.astype('uint8')\n",
    "    df['second'] = df['click_time'].dt.second.astype('uint8')\n",
    "        \n",
    "    df['click_rnd']=df['click_time'].dt.round('H')  \n",
    "    \n",
    "    # Build the double combos\n",
    "    cols = df.columns[:5]\n",
    "    for i in np.arange(0,4):\n",
    "        for j in np.arange(i+1,5):\n",
    "                df[str(cols[i]+'_'+cols[j])] = df[cols[i]].map(str)+'_'+df[cols[j]].map(str)\n",
    "\n",
    "    # Build the double combo counts\n",
    "    for col in df.columns[-10:]:\n",
    "        df = df.join(df[col].value_counts(), on=col, how='left', rsuffix='_counts')\n",
    "\n",
    "    # Drop the combo columns now that we have the counts\n",
    "    cols_drop = df.columns[-20:-10].values\n",
    "    df = df.drop(cols_drop, axis=1)\n",
    "\n",
    "    # Build the triple combination columns\n",
    "    cols = df.columns[:5]\n",
    "    for i in np.arange(0,3):\n",
    "        for j in np.arange(i+1,4):\n",
    "            for k in np.arange(j+1,5):\n",
    "                df[str(cols[i]+'_'+cols[j]+'_'+cols[k])] = (\n",
    "                        df[cols[i]].map(str)+'_'+df[cols[j]].map(str)+'_'+df[cols[k]].map(str))\n",
    "\n",
    "    # Build the triple combo counts\n",
    "    for col in df.columns[-10:]:\n",
    "        df = df.join(df[col].value_counts(), on=col, how='left', rsuffix='_counts')\n",
    "\n",
    "    # Drop the combo columns now that we have the counts\n",
    "    cols_drop = df.columns[-20:-10].values\n",
    "    df = df.drop(cols_drop, axis=1)\n",
    "\n",
    "    # Build the quadruple combos\n",
    "    for i in np.arange(0,2):\n",
    "        for j in np.arange(i+1,3):\n",
    "            for k in np.arange(j+1,4):\n",
    "                for l in np.arange(k+1,5):\n",
    "                    df[str(cols[i]+'_'+cols[j]+'_'+cols[k]+'_'+cols[l])] = (\n",
    "                        df[cols[i]].map(str)+'_'+df[cols[j]].map(str)+'_'+df[cols[k]].map(str)+'_'+df[cols[l]].map(str))\n",
    "\n",
    "    # Build the 5-combo column:\n",
    "    df[str(cols[0]+'_'+cols[1]+'_'+cols[2]+'_'+cols[3]+'_'+cols[4])] = (\n",
    "                        df[cols[0]].map(str)+'_'+df[cols[1]].map(str)+'_'+df[cols[2]].map(str)+'_'+df[cols[3]].map(str)+'_'+df[cols[4]].map(str))\n",
    "\n",
    "    # Build the quadruple and 5-combo counts\n",
    "    for col in df.columns[-6:]:\n",
    "        df = df.join(df[col].value_counts(), on=col, how='left', rsuffix='_counts')\n",
    "\n",
    "    # Drop the combo columns now that we have the counts\n",
    "    cols_drop = df.columns[-12:-6].values\n",
    "    df = df.drop(cols_drop, axis=1)\n",
    "    \n",
    "    scaler = StandardScaler()\n",
    "    df.iloc[:,-26:] = scaler.fit_transform(df.iloc[:,-26:])\n",
    "    \n",
    "    # Build the double combos\n",
    "    cols = df.columns[:5]\n",
    "    for i in np.arange(0,4):\n",
    "        for j in np.arange(i+1,5):\n",
    "                df[str(cols[i]+'_'+cols[j]+'_nextClick')] = (\n",
    "                    df.groupby([cols[i], cols[j]]).click_time.shift(-1) - df.click_time).dt.seconds.astype(np.float32)\n",
    "\n",
    "    # Build the triple combination columns\n",
    "    cols = df.columns[:5]\n",
    "    for i in np.arange(0,3):\n",
    "        for j in np.arange(i+1,4):\n",
    "            for k in np.arange(j+1,5):\n",
    "                df[str(cols[i]+'_'+cols[j]+'_'+cols[k]+'_nextClick')] = (\n",
    "                        df.groupby([cols[i], cols[j], cols[k]]).click_time.shift(-1) - df.click_time).dt.seconds.astype(np.float32)\n",
    "\n",
    "    # Build the quadruple combos\n",
    "    for i in np.arange(0,2):\n",
    "        for j in np.arange(i+1,3):\n",
    "            for k in np.arange(j+1,4):\n",
    "                for l in np.arange(k+1,5):\n",
    "                    df[str(cols[i]+'_'+cols[j]+'_'+cols[k]+'_'+cols[l]+'_nextClick')] = (\n",
    "                        df.groupby([cols[i], cols[j], cols[k], cols[l]]).click_time.shift(-1) - df.click_time).dt.seconds.astype(np.float32)        \n",
    "\n",
    "\n",
    "    # Build the 5-combo column:\n",
    "    df[str(cols[0]+'_'+cols[1]+'_'+cols[2]+'_'+cols[3]+'_'+cols[4]+'_nextClick')] = (\n",
    "         df.groupby([cols[0], cols[1], cols[2], cols[3], cols[4]]).click_time.shift(-1) - df.click_time).dt.seconds.astype(np.float32)\n",
    "\n",
    "    #Fill NAs with large value 1e10\n",
    "    df = df.fillna(1e10)\n",
    "\n",
    "    # Creating click_hour variable\n",
    "    df['click_hour'] = df.click_rnd.dt.hour\n",
    "    df['click_day'] = df.click_rnd.dt.day\n",
    "\n",
    "    # Dropping click_time and click_rnd\n",
    "    df= df.drop(['click_time','click_rnd'], axis=1)\n",
    "\n",
    "    # Cyclical by hour\n",
    "\n",
    "    hours_in_day = 24\n",
    "\n",
    "    df['sin_click_hour'] = np.sin(2*np.pi*df.click_hour/hours_in_day)\n",
    "    df['cos_click_hour'] = np.cos(2*np.pi*df.click_hour/hours_in_day)\n",
    "\n",
    "    df= df.drop(['click_hour'], axis=1)\n",
    "\n",
    "    # Cyclical by day\n",
    "\n",
    "    days_in_week = 7\n",
    "\n",
    "    df['sin_click_day'] = np.sin(2*np.pi*df.click_day/days_in_week)\n",
    "    df['cos_click_day'] = np.cos(2*np.pi*df.click_day/days_in_week)\n",
    "\n",
    "    df = df.drop(['click_day'], axis=1)\n",
    "    \n",
    "    # Set variables as categorical\n",
    "    variables = ['ip', 'app', 'device', 'os', 'channel']\n",
    "    for v in variables:\n",
    "        df[v] = df[v].astype('category')\n",
    "\n",
    "    del hours_in_day, days_in_week\n",
    "    \n",
    "    return df\n"
   ]
  },
  {
   "cell_type": "markdown",
   "metadata": {},
   "source": [
    "## Reading in the test set from Kaggle competition"
   ]
  },
  {
   "cell_type": "code",
   "execution_count": 129,
   "metadata": {},
   "outputs": [],
   "source": [
    "dtypes = {\n",
    "        'ip'            : 'uint32',\n",
    "        'app'           : 'uint16',\n",
    "        'device'        : 'uint16',\n",
    "        'os'            : 'uint16',\n",
    "        'channel'       : 'uint16',\n",
    "        #'is_attributed' : 'uint8',\n",
    "        #'click_id'      : 'uint32',\n",
    "        }\n",
    "\n",
    "keep_cols = ['ip','app','device','os','channel','click_time']\n",
    "\n",
    "data2 = pd.read_csv('test.csv', usecols = keep_cols)#, dtype = dtypes)"
   ]
  },
  {
   "cell_type": "code",
   "execution_count": 130,
   "metadata": {},
   "outputs": [
    {
     "name": "stdout",
     "output_type": "stream",
     "text": [
      "<class 'pandas.core.frame.DataFrame'>\n",
      "RangeIndex: 18790469 entries, 0 to 18790468\n",
      "Data columns (total 6 columns):\n",
      "ip            int64\n",
      "app           int64\n",
      "device        int64\n",
      "os            int64\n",
      "channel       int64\n",
      "click_time    object\n",
      "dtypes: int64(5), object(1)\n",
      "memory usage: 860.2+ MB\n"
     ]
    }
   ],
   "source": [
    "data2.info()"
   ]
  },
  {
   "cell_type": "markdown",
   "metadata": {},
   "source": [
    "## Applying the feature engineering"
   ]
  },
  {
   "cell_type": "code",
   "execution_count": 131,
   "metadata": {},
   "outputs": [],
   "source": [
    "data2 = FeatureEngineer(data2)"
   ]
  },
  {
   "cell_type": "code",
   "execution_count": 132,
   "metadata": {},
   "outputs": [],
   "source": [
    "data2 = data2.drop(['day','hour','minute','second'], axis = 1)\n",
    "data2 = data2.drop(remove_features, axis = 1)"
   ]
  },
  {
   "cell_type": "code",
   "execution_count": 133,
   "metadata": {},
   "outputs": [],
   "source": [
    "data2['ip'] = data2['ip'].astype('uint32')\n",
    "data2['app'] = data2['app'].astype('uint16')\n",
    "data2['device'] = data2['device'].astype('uint16')\n",
    "data2['os'] = data2['os'].astype('uint16')\n",
    "data2['channel'] = data2['channel'].astype('uint16')"
   ]
  },
  {
   "cell_type": "markdown",
   "metadata": {},
   "source": [
    "## Making sure the shape and dtypes match our X_train"
   ]
  },
  {
   "cell_type": "code",
   "execution_count": 134,
   "metadata": {},
   "outputs": [
    {
     "data": {
      "text/plain": [
       "(639584, 48)"
      ]
     },
     "execution_count": 134,
     "metadata": {},
     "output_type": "execute_result"
    }
   ],
   "source": [
    "X_train.shape"
   ]
  },
  {
   "cell_type": "code",
   "execution_count": 135,
   "metadata": {},
   "outputs": [
    {
     "data": {
      "text/plain": [
       "(18790469, 48)"
      ]
     },
     "execution_count": 135,
     "metadata": {},
     "output_type": "execute_result"
    }
   ],
   "source": [
    "data2.shape"
   ]
  },
  {
   "cell_type": "code",
   "execution_count": 136,
   "metadata": {},
   "outputs": [
    {
     "data": {
      "text/plain": [
       "ip                                 True\n",
       "app                                True\n",
       "device                             True\n",
       "os                                 True\n",
       "channel                            True\n",
       "ip_app_counts                      True\n",
       "ip_device_counts                   True\n",
       "ip_os_counts                       True\n",
       "app_device_counts                  True\n",
       "app_os_counts                      True\n",
       "app_channel_counts                 True\n",
       "device_os_counts                   True\n",
       "device_channel_counts              True\n",
       "os_channel_counts                  True\n",
       "ip_app_device_counts               True\n",
       "ip_device_os_counts                True\n",
       "app_device_os_counts               True\n",
       "app_device_channel_counts          True\n",
       "app_os_channel_counts              True\n",
       "device_os_channel_counts           True\n",
       "app_device_os_channel_counts       True\n",
       "ip_app_nextClick                   True\n",
       "ip_device_nextClick                True\n",
       "ip_os_nextClick                    True\n",
       "ip_channel_nextClick               True\n",
       "app_device_nextClick               True\n",
       "app_os_nextClick                   True\n",
       "app_channel_nextClick              True\n",
       "device_os_nextClick                True\n",
       "device_channel_nextClick           True\n",
       "os_channel_nextClick               True\n",
       "ip_app_device_nextClick            True\n",
       "ip_app_os_nextClick                True\n",
       "ip_app_channel_nextClick           True\n",
       "ip_device_os_nextClick             True\n",
       "ip_device_channel_nextClick        True\n",
       "app_device_os_nextClick            True\n",
       "app_device_channel_nextClick       True\n",
       "app_os_channel_nextClick           True\n",
       "device_os_channel_nextClick        True\n",
       "ip_app_device_os_nextClick         True\n",
       "ip_app_device_channel_nextClick    True\n",
       "ip_app_os_channel_nextClick        True\n",
       "ip_device_os_channel_nextClick     True\n",
       "app_device_os_channel_nextClick    True\n",
       "sin_click_hour                     True\n",
       "cos_click_hour                     True\n",
       "sin_click_day                      True\n",
       "dtype: bool"
      ]
     },
     "execution_count": 136,
     "metadata": {},
     "output_type": "execute_result"
    }
   ],
   "source": [
    "X_train.dtypes == data2.dtypes"
   ]
  },
  {
   "cell_type": "markdown",
   "metadata": {},
   "source": [
    "## Making final predictions using our best model"
   ]
  },
  {
   "cell_type": "code",
   "execution_count": 137,
   "metadata": {},
   "outputs": [],
   "source": [
    "xgb_y_pred_final = xgb_grid.predict(data2)"
   ]
  },
  {
   "cell_type": "code",
   "execution_count": null,
   "metadata": {},
   "outputs": [],
   "source": [
    "# with open('xgb_y_pred_final.pkl','wb') as f:\n",
    "#     pickle.dump(xgb_y_pred_final, f)\n",
    "\n",
    "# with open('test.pkl','rb') as f:\n",
    "#     x = pickle.load(f)\n",
    "#     print(x.shape)"
   ]
  },
  {
   "cell_type": "code",
   "execution_count": 141,
   "metadata": {},
   "outputs": [
    {
     "data": {
      "text/plain": [
       "(18790469, 18790469)"
      ]
     },
     "execution_count": 141,
     "metadata": {},
     "output_type": "execute_result"
    }
   ],
   "source": [
    "len(data2), len(xgb_y_pred_final)"
   ]
  },
  {
   "cell_type": "code",
   "execution_count": 138,
   "metadata": {},
   "outputs": [],
   "source": [
    "submission = pd.DataFrame({'click_id':pd.Series(list(range(len(xgb_y_pred_final)))), 'is_attributed':xgb_y_pred_final})"
   ]
  },
  {
   "cell_type": "code",
   "execution_count": 139,
   "metadata": {},
   "outputs": [
    {
     "data": {
      "text/html": [
       "<div>\n",
       "<style scoped>\n",
       "    .dataframe tbody tr th:only-of-type {\n",
       "        vertical-align: middle;\n",
       "    }\n",
       "\n",
       "    .dataframe tbody tr th {\n",
       "        vertical-align: top;\n",
       "    }\n",
       "\n",
       "    .dataframe thead th {\n",
       "        text-align: right;\n",
       "    }\n",
       "</style>\n",
       "<table border=\"1\" class=\"dataframe\">\n",
       "  <thead>\n",
       "    <tr style=\"text-align: right;\">\n",
       "      <th></th>\n",
       "      <th>click_id</th>\n",
       "      <th>is_attributed</th>\n",
       "    </tr>\n",
       "  </thead>\n",
       "  <tbody>\n",
       "    <tr>\n",
       "      <th>0</th>\n",
       "      <td>0</td>\n",
       "      <td>1</td>\n",
       "    </tr>\n",
       "    <tr>\n",
       "      <th>1</th>\n",
       "      <td>1</td>\n",
       "      <td>1</td>\n",
       "    </tr>\n",
       "    <tr>\n",
       "      <th>2</th>\n",
       "      <td>2</td>\n",
       "      <td>1</td>\n",
       "    </tr>\n",
       "    <tr>\n",
       "      <th>3</th>\n",
       "      <td>3</td>\n",
       "      <td>1</td>\n",
       "    </tr>\n",
       "    <tr>\n",
       "      <th>4</th>\n",
       "      <td>4</td>\n",
       "      <td>1</td>\n",
       "    </tr>\n",
       "  </tbody>\n",
       "</table>\n",
       "</div>"
      ],
      "text/plain": [
       "   click_id  is_attributed\n",
       "0         0              1\n",
       "1         1              1\n",
       "2         2              1\n",
       "3         3              1\n",
       "4         4              1"
      ]
     },
     "execution_count": 139,
     "metadata": {},
     "output_type": "execute_result"
    }
   ],
   "source": [
    "submission.head()"
   ]
  },
  {
   "cell_type": "code",
   "execution_count": 140,
   "metadata": {},
   "outputs": [],
   "source": [
    "submission.to_csv('xgb_sub.csv', float_format='%.8f', index=False)"
   ]
  },
  {
   "cell_type": "code",
   "execution_count": null,
   "metadata": {},
   "outputs": [],
   "source": []
  }
 ],
 "metadata": {
  "kernelspec": {
   "display_name": "Python 3",
   "language": "python",
   "name": "python3"
  },
  "language_info": {
   "codemirror_mode": {
    "name": "ipython",
    "version": 3
   },
   "file_extension": ".py",
   "mimetype": "text/x-python",
   "name": "python",
   "nbconvert_exporter": "python",
   "pygments_lexer": "ipython3",
   "version": "3.5.3"
  }
 },
 "nbformat": 4,
 "nbformat_minor": 4
}
